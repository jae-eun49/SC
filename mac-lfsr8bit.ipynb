{
 "cells": [
  {
   "cell_type": "markdown",
   "id": "afacf477-15ca-4272-9ef4-50fe8b25c049",
   "metadata": {},
   "source": [
    "# Multiplier TEST code"
   ]
  },
  {
   "cell_type": "markdown",
   "id": "960913e5-e961-4db4-9099-842bbcc11d64",
   "metadata": {},
   "source": [
    "fixed number to stochastic conversion & multiply & stochastic to fixed number conversion"
   ]
  },
  {
   "cell_type": "markdown",
   "id": "7f984cce-e977-4513-b0a6-166d637b3ee2",
   "metadata": {},
   "source": [
    "## Import"
   ]
  },
  {
   "cell_type": "code",
   "execution_count": 1,
   "id": "bdcc4eb8-eb20-495f-905c-8d69ccf0004b",
   "metadata": {},
   "outputs": [],
   "source": [
    "import random, struct, math\n",
    "import torch\n",
    "import numpy as np\n",
    "import torch.nn as nn \n",
    "import argparse\n",
    "import warnings\n",
    "warnings.simplefilter(action='ignore', category=FutureWarning)"
   ]
  },
  {
   "cell_type": "markdown",
   "id": "bf874b06-00d8-467a-a39a-f83b2848a131",
   "metadata": {},
   "source": [
    "## Parser"
   ]
  },
  {
   "cell_type": "code",
   "execution_count": 2,
   "id": "60f1fa45-99e9-4316-97bd-110193848caf",
   "metadata": {},
   "outputs": [],
   "source": [
    "parser = argparse.ArgumentParser(description='fixed_mac')\n",
    "parser.add_argument('--full_bits', type=int, default=16, help='Number of Quantization Bits')\n",
    "parser.add_argument('--frac_bits', type=int, default=8, help='Number of Quantization Bits')\n",
    "parser.add_argument('--bBW', type=int, default=7, help='Number of bit width')\n",
    "args = parser.parse_args(args=[])"
   ]
  },
  {
   "cell_type": "markdown",
   "id": "1f797a9d-6b00-4116-877f-0a71225be9b4",
   "metadata": {},
   "source": [
    "## Definition"
   ]
  },
  {
   "cell_type": "markdown",
   "id": "f8529249-9e0f-4d60-8c40-b9b3c52975ca",
   "metadata": {},
   "source": [
    "### int2bin : int number to binary number"
   ]
  },
  {
   "cell_type": "code",
   "execution_count": 3,
   "id": "5c99e84a-3245-4d68-ad2c-9d3c4e675aa7",
   "metadata": {},
   "outputs": [],
   "source": [
    "def int2bin(iIn,iBW):\n",
    "    iBW = iBW + 1\n",
    "    if iIn >= 0:\n",
    "        bOut = bin(iIn).replace('0b','').rjust(iBW,'0')\n",
    "    else :\n",
    "        bOut = bin(iIn & (pow(2,iBW)-1)).replace('0b','').rjust(iBW,'1')\n",
    "    return bOut[1:]"
   ]
  },
  {
   "cell_type": "markdown",
   "id": "95c7b4eb-1d2d-4010-be45-3a105fa58baa",
   "metadata": {},
   "source": [
    "### XOR : xor gate with string"
   ]
  },
  {
   "cell_type": "code",
   "execution_count": 4,
   "id": "017c485f-9342-44bc-b1b5-2bd809a0e6d3",
   "metadata": {},
   "outputs": [],
   "source": [
    "def XOR(iA,iB):\n",
    "    if iA != iB :\n",
    "        iOut = '1'\n",
    "    else : \n",
    "        iOut = '0'\n",
    "    return iOut"
   ]
  },
  {
   "cell_type": "markdown",
   "id": "f33ef61a-6fe2-47bf-82d8-ef6f749abd9b",
   "metadata": {},
   "source": [
    "### SNUM : sign number determination"
   ]
  },
  {
   "cell_type": "code",
   "execution_count": 5,
   "id": "315a5931-74d7-49ce-989e-65584b5b8162",
   "metadata": {},
   "outputs": [],
   "source": [
    "def snum(a):\n",
    "    if a >= 0 :\n",
    "        return '0'\n",
    "    else :\n",
    "        return '1'"
   ]
  },
  {
   "cell_type": "markdown",
   "id": "58fa9a22-a10e-40e4-b057-67055a68e33e",
   "metadata": {},
   "source": [
    "### fxp & flp2fix : floating number to fixed number conversion"
   ]
  },
  {
   "cell_type": "code",
   "execution_count": 6,
   "id": "1d11c5ea-e139-4b7c-bdc5-d297cf82579c",
   "metadata": {},
   "outputs": [],
   "source": [
    "class fxp:\n",
    "    def __init__(self, bIn, iBWF):\n",
    "        self.iFullBW = len(bIn)\n",
    "        self.iIntgBW = self.iFullBW - iBWF\n",
    "        self.bSign = bIn[0]\n",
    "        self.bIntg = bIn[:self.iIntgBW]\n",
    "        self.bFrac = bIn[self.iIntgBW:]\n",
    "        self.fFull = 0\n",
    "        try:\n",
    "            for idx, bit in enumerate(bIn):\n",
    "                if idx == 0:\n",
    "                    self.fFull = self.fFull + int(bit,2) * -pow(2, self.iIntgBW - 1)\n",
    "                else:\n",
    "                    self.fFull = self.fFull + int(bit,2) * pow(2, self.iIntgBW - 1 - idx)\n",
    "        except:\n",
    "            print(bIn)\n",
    "        self.dispFull = self.bIntg +\".\"+ self.bFrac \n",
    "        return"
   ]
  },
  {
   "cell_type": "code",
   "execution_count": 7,
   "id": "7c6aa085-7abf-4abe-acd9-9fa75a19a0bd",
   "metadata": {},
   "outputs": [],
   "source": [
    "class flp2fix:\n",
    "    def __init__(self, fIn, iBW, iBWF):\n",
    "        self.fMin = - 2 ** (iBW - iBWF - 1)\n",
    "        self.fMax = (2 ** (iBW-1) - 1) * (2 ** -iBWF)\n",
    "        self.fResol = 2 ** -iBWF\n",
    "        if fIn < self.fMin or fIn > self.fMax:\n",
    "            print(f'({fIn}): Out of input range ({self.fMax}/{self.fMin}) during flp -> fix converting ')\n",
    "        self.iBW = iBW\n",
    "        self.iBWI = iBW - iBWF\n",
    "        self.iBWF = iBWF\n",
    "\n",
    "        self.iFLP2INT = abs(int(fIn * 2 ** iBWF))\n",
    "        if fIn < 0:\n",
    "            self.iFLP2INT = 2 ** (iBW-1) - self.iFLP2INT\n",
    "\n",
    "        if fIn >= 0:\n",
    "            self.bFull = bin(self.iFLP2INT)[2:].rjust(iBW, '0')\n",
    "        else:\n",
    "            self.bFull = '1'+bin(self.iFLP2INT)[2:].rjust(iBW-1, '0')\n",
    "            if len(self.bFull) > iBW:\n",
    "                self.bFull = '0' * iBW\n",
    "\n",
    "        self.cssFxp = fxp(self.bFull, self.iBWF)\n",
    "        self.bSign = self.cssFxp.bSign\n",
    "        self.bIntg = self.cssFxp.bIntg\n",
    "        self.bFrac = self.cssFxp.bFrac\n",
    "        self.fFull = self.cssFxp.fFull\n",
    "        return"
   ]
  },
  {
   "cell_type": "code",
   "execution_count": 8,
   "id": "5b6e67a1-cd0e-44f4-a856-21cca5af1e18",
   "metadata": {},
   "outputs": [],
   "source": [
    "def flp2fixTensor(fIn, iBW, iBWF):\n",
    "    fMin = - 2 ** (iBW - iBWF - 1)\n",
    "    fMax = (2 ** (iBW-1) - 1) * (2 ** -iBWF)\n",
    "    fList = []\n",
    "    for aTensor in fIn.view(-1):\n",
    "        fList.append(flp2fix(aTensor, iBW, iBWF).fFull)\n",
    "    return torch.tensor(fList).view(fIn.size())"
   ]
  },
  {
   "cell_type": "markdown",
   "id": "1b0d04af-ae7a-4d24-a4cd-39c1d86c1580",
   "metadata": {},
   "source": [
    "### LFSR : make pseudorandom number bitstream"
   ]
  },
  {
   "cell_type": "code",
   "execution_count": 9,
   "id": "bfb2e170-fae0-4d5e-9fd4-12703e1202c7",
   "metadata": {},
   "outputs": [],
   "source": [
    "class LFSR7:\n",
    "    def Random(self):\n",
    "        self.b0 = eval(f'str(random.randint(0,1))')\n",
    "        self.b1 = eval(f'str(random.randint(0,1))')\n",
    "        self.b2 = eval(f'str(random.randint(0,1))')\n",
    "        self.b3 = eval(f'str(random.randint(0,1))')\n",
    "        self.b4 = eval(f'str(random.randint(0,1))')\n",
    "        self.b5 = eval(f'str(random.randint(0,1))')\n",
    "        self.b6 = eval(f'str(random.randint(0,1))')\n",
    "        return self.b0 + self.b1 + self.b2 + self.b3 + self.b4 + self.b5 + self.b6\n",
    "    \n",
    "    def Normal(self,stream):\n",
    "        self.b0 = XOR(int(stream[5]),int(stream[6]))\n",
    "        self.b1 = stream[0]\n",
    "        self.b2 = stream[1]\n",
    "        self.b3 = stream[2]\n",
    "        self.b4 = stream[3]\n",
    "        self.b5 = stream[4]\n",
    "        self.b6 = stream[5]\n",
    "        \n",
    "        return self.b0 + self.b1 + self.b2 + self.b3 + self.b4 + self.b5 + self.b6\n",
    "    \n",
    "    def Allzero(self):\n",
    "        self.b0 = '0'\n",
    "        self.b1 = '0'\n",
    "        self.b2 = '0'\n",
    "        self.b3 = '0'\n",
    "        self.b4 = '0'\n",
    "        self.b5 = '0'\n",
    "        self.b6 = '0'\n",
    "        \n",
    "        return self.b0 + self.b1 + self.b2 + self.b3 + self.b4 + self.b5 + self.b6"
   ]
  },
  {
   "cell_type": "markdown",
   "id": "5393f658-d697-44a5-a176-970ad07f72a8",
   "metadata": {},
   "source": [
    "### LFSRlist : make pseudorandom number bitstream with 2**bBW cycle"
   ]
  },
  {
   "cell_type": "code",
   "execution_count": 10,
   "id": "73dced22-c04e-41a1-a888-f2617dbccb61",
   "metadata": {},
   "outputs": [],
   "source": [
    "def LFSRlist7():\n",
    "    lfsr = LFSR7()\n",
    "    lfsrlist = []\n",
    "    for k in range(2**(args.bBW)-1): #lfsr number generating\n",
    "        if k == 0:\n",
    "            lfsrlist.append(lfsr.Random())\n",
    "        else :\n",
    "            lfsrlist.append(lfsr.Normal(lfsrlist[k-1]))\n",
    "        if (k == 2**(args.bBW)-2):\n",
    "            lfsrlist.append(lfsr.Allzero())\n",
    "    \n",
    "    if (args.bBW) != args.frac_bits :\n",
    "        if args.bBW < args.frac_bits :\n",
    "            for i in range(len(lfsrlist)):\n",
    "                lfsrlist[i] = lfsrlist[i] + (args.frac_bits-args.bBW)*'0'\n",
    "        else :\n",
    "            print(\"it can't work\")\n",
    "            return 0\n",
    "    \n",
    "    return lfsrlist"
   ]
  },
  {
   "cell_type": "markdown",
   "id": "072408b7-569c-42d5-8c7b-04066a4a1638",
   "metadata": {},
   "source": [
    "### Comp : Comparator in SNG"
   ]
  },
  {
   "cell_type": "code",
   "execution_count": 11,
   "id": "ab250e95-c7ce-4bcc-8953-2c0d2e36dc55",
   "metadata": {},
   "outputs": [],
   "source": [
    "def Comp(a,lfsr,snum):\n",
    "    for com in range(0,len(a)):\n",
    "        oA = '0'\n",
    "        if a[com]!=lfsr[com]:\n",
    "            if(int(a[com]) > int(lfsr[com])):\n",
    "                oA = '1'\n",
    "            break\n",
    "    return XOR(oA,snum)"
   ]
  },
  {
   "cell_type": "markdown",
   "id": "5d9bd200-f244-4ea9-af57-b32365f4f14b",
   "metadata": {},
   "source": [
    "### Perm : module for permutation SNG "
   ]
  },
  {
   "cell_type": "code",
   "execution_count": 12,
   "id": "0a43b3af-b20e-49ac-b758-268d1cc4003a",
   "metadata": {},
   "outputs": [],
   "source": [
    "def perm(a):\n",
    "    al = len(a)\n",
    "    blist = []\n",
    "    for i in range(al) :\n",
    "        #print(al-i-1)\n",
    "        blist.append(a[al-i-1])\n",
    "    \n",
    "    b = \"\".join(blist)\n",
    "    \n",
    "    return b"
   ]
  },
  {
   "cell_type": "markdown",
   "id": "39526659-6ac2-4dcd-a1ed-d72083ab2bd2",
   "metadata": {},
   "source": [
    "### findMaxMin : find abs max value in act tensor"
   ]
  },
  {
   "cell_type": "code",
   "execution_count": 13,
   "id": "d64bb7c5-ddf2-49a8-a3ec-fcb1a2eef032",
   "metadata": {},
   "outputs": [],
   "source": [
    "def findMaxMin(data):\n",
    "    max = torch.max(data)\n",
    "    min = torch.min(data)\n",
    "    SF=torch.max(abs(max),abs(min)).item()\n",
    "    return SF"
   ]
  },
  {
   "cell_type": "markdown",
   "id": "9ab4ab89-9ed0-4ce1-ab63-af32bb54ed3d",
   "metadata": {},
   "source": [
    "### SNG : stochastic number generator module"
   ]
  },
  {
   "cell_type": "code",
   "execution_count": 14,
   "id": "6fee2d67-5eba-4d35-b553-621ab2c30620",
   "metadata": {},
   "outputs": [],
   "source": [
    "def SNG(iIN,lfsr):\n",
    "\n",
    "    sNUM = snum(iIN)\n",
    "    \n",
    "    bIN = flp2fix(iIN,args.full_bits,args.frac_bits).bFull\n",
    "    oAlist = []\n",
    "    \n",
    "    for k in range(2**(args.bBW)): #lfsr number generating\n",
    "        lNUM = lfsr[k]\n",
    "        a = Comp(bIN[-(args.frac_bits):],lNUM,sNUM)\n",
    "        oAlist.append(a) #comparator of input a\n",
    "    \n",
    "    oAlist.insert(0,sNUM)\n",
    "    sA = \"\".join(oAlist)\n",
    "    if sNUM == '1' and bIN == args.full_bits*'0' :\n",
    "        return '1'+(2**(args.bBW))*'0'\n",
    "    else :\n",
    "        return sA"
   ]
  },
  {
   "cell_type": "code",
   "execution_count": 15,
   "id": "477c80a9-4bc9-4702-8a71-8527a50c6d19",
   "metadata": {},
   "outputs": [],
   "source": [
    "lfsr = LFSRlist7()"
   ]
  },
  {
   "cell_type": "code",
   "execution_count": 16,
   "id": "63819464-1029-4dfb-b417-4b2d2acb4e04",
   "metadata": {},
   "outputs": [
    {
     "name": "stdout",
     "output_type": "stream",
     "text": [
      "000001110000010010010000000000000000000010000010000000000000010000000000000001111001111000111000011000000001100000000000000100001\n",
      "26\n",
      "26\n",
      "129\n",
      "0.203125\n"
     ]
    }
   ],
   "source": [
    "a = SNG(0.2,lfsr)\n",
    "print(a)\n",
    "print(a.count('1'))\n",
    "\n",
    "n = 0\n",
    "for i in a :\n",
    "    if i == '1' :\n",
    "        n += 1\n",
    "print(n)\n",
    "print(len(a))\n",
    "print(n/(len(a)-1))"
   ]
  },
  {
   "cell_type": "markdown",
   "id": "a1a5bae5-06a9-4dcd-a2f9-9a143cfd372e",
   "metadata": {},
   "source": [
    "### SNG_P : permutation stochastic number generator module"
   ]
  },
  {
   "cell_type": "code",
   "execution_count": 17,
   "id": "d2e43aba-6ff3-4d24-94ca-54f5f1c55065",
   "metadata": {
    "tags": []
   },
   "outputs": [],
   "source": [
    "def SNG_P(iIN,lfsr):\n",
    "    sNUM = snum(iIN)\n",
    "    \n",
    "    bIN = flp2fix(iIN,args.full_bits,args.frac_bits).bFull\n",
    "    oAlist = []\n",
    "    \n",
    "    for k in range(2**(args.bBW)): #lfsr number generating\n",
    "        if (args.bBW == args.frac_bits) :    \n",
    "            lNUM = perm(lfsr[k])\n",
    "        elif (args.bBW < args.frac_bits) :\n",
    "            lNUM = perm(lfsr[k][:args.bBW])+(args.frac_bits-args.bBW)*\"0\"\n",
    "        a = Comp(bIN[-(args.frac_bits):],lNUM,sNUM)\n",
    "        oAlist.append(Comp(bIN[-(args.frac_bits):],lNUM,sNUM)) #comparator of input a\n",
    "    \n",
    "    oAlist.insert(0,sNUM)\n",
    "    sA = \"\".join(oAlist)\n",
    "    if sNUM == '1' and bIN == args.full_bits*'0' :\n",
    "        return '1'+(2**(args.bBW))*'0'\n",
    "    else :\n",
    "        return sA"
   ]
  },
  {
   "cell_type": "markdown",
   "id": "74e9e15a-bd56-4d74-a36a-2df8aa9e1e6d",
   "metadata": {},
   "source": [
    "### SNGnumpy : SNG module with numpy"
   ]
  },
  {
   "cell_type": "code",
   "execution_count": 18,
   "id": "1f8320d3-8877-4616-a13b-6b53184d57e6",
   "metadata": {},
   "outputs": [],
   "source": [
    "def SNGnumpy(fIn,lfsr):\n",
    "    sList = []\n",
    "    for aNumpy in fIn.view(-1): # numpy 행렬 중 하나의 요소인 aNumpy\n",
    "        sList.append(SNG(float(aNumpy),lfsr))\n",
    "                     \n",
    "    return np.array(sList).reshape(fIn.size()) # Numpy 형태로 출력"
   ]
  },
  {
   "cell_type": "markdown",
   "id": "4166a6fc-665f-45f0-949b-627c200980a2",
   "metadata": {},
   "source": [
    "### SNGpnumpy : permutation SNG module with numpy"
   ]
  },
  {
   "cell_type": "code",
   "execution_count": 19,
   "id": "23fe4aad-cdce-490e-bd7c-4fca61c88840",
   "metadata": {
    "tags": []
   },
   "outputs": [],
   "source": [
    "def SNGpnumpy(fIn,lfsr):\n",
    "    sList = []\n",
    "    for aNumpy in fIn.view(-1):\n",
    "        sList.append(SNG_P(float(aNumpy),lfsr))\n",
    "                     \n",
    "    return  np.array(sList).reshape(fIn.size())"
   ]
  },
  {
   "cell_type": "markdown",
   "id": "b902bdca-2acc-46a0-89d9-4547652c045f",
   "metadata": {},
   "source": [
    "### CountOne : count 1 in stochastic number bit stream"
   ]
  },
  {
   "cell_type": "code",
   "execution_count": 20,
   "id": "a7e5f761-6341-459d-9780-46779c06c307",
   "metadata": {},
   "outputs": [],
   "source": [
    "def CountOne(nIn):\n",
    "    nlist = []\n",
    "    for num in nIn.reshape(-1):\n",
    "        n = 0\n",
    "        for a in num:\n",
    "            if a == '1' :\n",
    "                n += 1\n",
    "        if num[0] == '1' :\n",
    "            nlist.append(n-1)\n",
    "        else :\n",
    "            nlist.append(n)\n",
    "    return torch.tensor(nlist).view(nIn.shape) # tensor 형태로 저장하여 출력"
   ]
  },
  {
   "cell_type": "markdown",
   "id": "8ff8cd5f-14f1-403c-9595-53c3df503d42",
   "metadata": {},
   "source": [
    "### defSign : sign determination in S2N "
   ]
  },
  {
   "cell_type": "code",
   "execution_count": 21,
   "id": "0d2851f4-d19b-4d7d-800c-6cfd0c7a3d80",
   "metadata": {},
   "outputs": [],
   "source": [
    "def defSign(nIn):\n",
    "    nlist = []\n",
    "    for num in nIn.reshape(-1):\n",
    "        if num[0] == '1' :\n",
    "            nlist.append(-1)\n",
    "        else :\n",
    "            nlist.append(1)\n",
    "    return torch.tensor(nlist).view(nIn.shape)"
   ]
  },
  {
   "cell_type": "markdown",
   "id": "98e7c6eb-fa2b-4a3a-a5b6-53e62d8f5971",
   "metadata": {},
   "source": [
    "### Multiplier"
   ]
  },
  {
   "cell_type": "code",
   "execution_count": 22,
   "id": "3ef42b58-b198-4087-b476-4fddff483bcc",
   "metadata": {},
   "outputs": [],
   "source": [
    "def mul(a,b):\n",
    "    al = len(a)\n",
    "    bl = len(b)\n",
    "    \n",
    "    outlist = []\n",
    "    \n",
    "    if al != bl :\n",
    "        print(\"length of string is different\")\n",
    "        return 0\n",
    "    \n",
    "    outlist.append(XOR(a[0],b[0]))\n",
    "    \n",
    "    for i in range(al-1) :\n",
    "        outlist.append(str(int(a[i+1]) & int(b[i+1])))\n",
    "    \n",
    "    #print(outlist)\n",
    "    out = \"\".join(outlist)\n",
    "    \n",
    "    return out    "
   ]
  },
  {
   "cell_type": "code",
   "execution_count": 23,
   "id": "de3c2e46-3b8b-4d65-af25-b81e40a394e0",
   "metadata": {},
   "outputs": [],
   "source": [
    "def defSign1(nIn):\n",
    "    if nIn[0] == '1' :\n",
    "        return -1\n",
    "    else :\n",
    "        return 1"
   ]
  },
  {
   "cell_type": "code",
   "execution_count": 24,
   "id": "2e3ba222-e443-42c8-ae2d-cdd4d95e9cf4",
   "metadata": {},
   "outputs": [],
   "source": [
    "def CountOne1(nIn):\n",
    "    n = 0\n",
    "    for num in nIn:\n",
    "        if num == '1' :\n",
    "            n += 1\n",
    "    if nIn[0] == '1' :\n",
    "        return n-1\n",
    "    else :\n",
    "        return n"
   ]
  },
  {
   "cell_type": "code",
   "execution_count": 25,
   "id": "a9da0d82-0eea-4877-833f-397fee9f1132",
   "metadata": {},
   "outputs": [],
   "source": [
    "def S2None(sIn): # stochstic number => floating number\n",
    "    s = defSign(sIn)\n",
    "#    o = (CountOne(sIn)/(2**args.bBW))*SF*s\n",
    "    o = sIn*s\n",
    "    return o"
   ]
  },
  {
   "cell_type": "markdown",
   "id": "12c61431-9805-4e7b-b589-94cf9febdcb4",
   "metadata": {},
   "source": [
    "### Accumulator : OUR Scheme"
   ]
  },
  {
   "cell_type": "code",
   "execution_count": 26,
   "id": "866dbc3c-12ee-47b0-a286-37f769a04b74",
   "metadata": {},
   "outputs": [],
   "source": [
    "def pos(SN):\n",
    "    return SN[0] == '0'\n",
    "def neg(SN):\n",
    "    return SN[0] == '1'\n",
    "def counter(x):\n",
    "    return x.count('1')"
   ]
  },
  {
   "cell_type": "code",
   "execution_count": 27,
   "id": "af8673bc-3265-48f5-a4ba-395fe21f6a70",
   "metadata": {},
   "outputs": [],
   "source": [
    "def gen_acclist(bBW, IN):\n",
    "    A_list=[]\n",
    "    acc_A=0\n",
    "    acc_Alist=[]\n",
    "    for i in range(0,2**(bBW-1)):\n",
    "        A = 0\n",
    "        for k in range(len(IN)):\n",
    "            if IN[k][i] == '1':\n",
    "                A += 1\n",
    "        A_list.append(A)\n",
    "        acc_A += A_list[i]\n",
    "        acc_Alist.append(acc_A)     \n",
    "    \n",
    "    return acc_Alist"
   ]
  },
  {
   "cell_type": "code",
   "execution_count": 28,
   "id": "011f345d-39d2-409b-985a-62241af19b11",
   "metadata": {},
   "outputs": [],
   "source": [
    "def gen_So(bBW, diff):\n",
    "    So_list=[]\n",
    "    Ao_list=[]\n",
    "    global So\n",
    "    for o in range(2**(bBW-1)):\n",
    "        if o == 0:\n",
    "            Ao = 0 # first A_o is fixed\n",
    "            if diff[o] > 0:\n",
    "                So = 1\n",
    "            else:\n",
    "                So = 0\n",
    "            Ao_list.append(Ao)\n",
    "            So_list.append(So)\n",
    "        else:\n",
    "            Ao += So_list[o-1]\n",
    "            Ao_list.append(Ao)\n",
    "            if diff[o] > Ao_list[o]:\n",
    "                So = 1\n",
    "            elif diff[o] <= Ao_list[o]:\n",
    "                So = 0\n",
    "            So_list.append(So)\n",
    "    \n",
    "    return So_list"
   ]
  },
  {
   "cell_type": "code",
   "execution_count": 29,
   "id": "a5062b86-d07e-4cdf-8b1c-600ce3d0d0ae",
   "metadata": {},
   "outputs": [],
   "source": [
    "def block(IN):\n",
    "    BLOCK1=[]\n",
    "    BLOCK2=[]\n",
    "    BLOCK3=[]\n",
    "    BLOCK4=[]\n",
    "    BLOCK5=[]\n",
    "    BLOCK6=[]\n",
    "    BLOCK7=[]\n",
    "    BLOCK8=[]\n",
    "    for i in range(len(IN)):\n",
    "        block1 = IN[i][1:17]\n",
    "        block2 = IN[i][17:33]\n",
    "        block3 = IN[i][33:49]\n",
    "        block4 = IN[i][49:65]\n",
    "        block5 = IN[i][65:81]\n",
    "        block6 = IN[i][81:97]\n",
    "        block7 = IN[i][97:113]\n",
    "        block8 = IN[i][113:]\n",
    "        BLOCK1.append(block1)\n",
    "        BLOCK2.append(block2)\n",
    "        BLOCK3.append(block3)\n",
    "        BLOCK4.append(block4)\n",
    "        BLOCK5.append(block5)\n",
    "        BLOCK6.append(block6)\n",
    "        BLOCK7.append(block7)\n",
    "        BLOCK8.append(block8)\n",
    "    return BLOCK1, BLOCK2, BLOCK3, BLOCK4, BLOCK5, BLOCK6, BLOCK7, BLOCK8"
   ]
  },
  {
   "cell_type": "code",
   "execution_count": 30,
   "id": "a60373a1-9a7c-4837-973d-01bec6ebbcb8",
   "metadata": {},
   "outputs": [],
   "source": [
    "def OUR(iA): # bBW = 8\n",
    "    global diff1, diff2, diff3, diff4, diff5, diff6, diff7, diff8, sign\n",
    "  \n",
    "    # sorting random input bit-stream(positive/negative)\n",
    "    pos_IN = list(filter(pos, iA))\n",
    "    neg_IN = list(filter(neg, iA))\n",
    "\n",
    "    # Block devision\n",
    "    pBLOCK1, pBLOCK2, pBLOCK3, pBLOCK4, pBLOCK5, pBLOCK6, pBLOCK7, pBLOCK8 = block(pos_IN)\n",
    "    nBLOCK1, nBLOCK2, nBLOCK3, nBLOCK4, nBLOCK5, nBLOCK6, nBLOCK7, nBLOCK8 = block(neg_IN)\n",
    "\n",
    "    # generate list of number of accumulated 1s\n",
    "    Ap1_list = gen_acclist(5, pBLOCK1)\n",
    "    An1_list = gen_acclist(5, nBLOCK1)\n",
    "    Ap2_list = gen_acclist(5, pBLOCK2)\n",
    "    An2_list = gen_acclist(5, nBLOCK2)\n",
    "    Ap3_list = gen_acclist(5, pBLOCK3)\n",
    "    An3_list = gen_acclist(5, nBLOCK3)\n",
    "    Ap4_list = gen_acclist(5, pBLOCK4)\n",
    "    An4_list = gen_acclist(5, nBLOCK4)\n",
    "    Ap5_list = gen_acclist(5, pBLOCK5)\n",
    "    An5_list = gen_acclist(5, nBLOCK5)\n",
    "    Ap6_list = gen_acclist(5, pBLOCK6)\n",
    "    An6_list = gen_acclist(5, nBLOCK6)\n",
    "    Ap7_list = gen_acclist(5, pBLOCK7)\n",
    "    An7_list = gen_acclist(5, nBLOCK7)\n",
    "    Ap8_list = gen_acclist(5, pBLOCK8)\n",
    "    An8_list = gen_acclist(5, nBLOCK8)\n",
    "\n",
    "    # determine sign of output\n",
    "    if Ap1_list[-1]+Ap2_list[-1]+Ap3_list[-1]+Ap4_list[-1] > An1_list[-1]+An2_list[-1]+An3_list[-1]+An4_list[-1]:\n",
    "        diff1 = [x-y for x,y in zip(Ap1_list, An1_list)]\n",
    "        diff2 = [x-y for x,y in zip(Ap2_list, An2_list)]\n",
    "        diff3 = [x-y for x,y in zip(Ap3_list, An3_list)]\n",
    "        diff4 = [x-y for x,y in zip(Ap4_list, An4_list)]\n",
    "        diff5 = [x-y for x,y in zip(Ap5_list, An5_list)]\n",
    "        diff6 = [x-y for x,y in zip(Ap6_list, An6_list)]\n",
    "        diff7 = [x-y for x,y in zip(Ap7_list, An7_list)]\n",
    "        diff8 = [x-y for x,y in zip(Ap8_list, An8_list)]\n",
    "        sign  = ['0']        \n",
    "    elif Ap1_list[-1]+Ap2_list[-1]+Ap3_list[-1]+Ap4_list[-1] < An1_list[-1]+An2_list[-1]+An3_list[-1]+An4_list[-1]:\n",
    "        diff1 = [x-y for x,y in zip(An1_list, Ap1_list)]\n",
    "        diff2 = [x-y for x,y in zip(An2_list, Ap2_list)]\n",
    "        diff3 = [x-y for x,y in zip(An3_list, Ap3_list)]\n",
    "        diff4 = [x-y for x,y in zip(An4_list, Ap4_list)]\n",
    "        diff5 = [x-y for x,y in zip(An5_list, Ap5_list)]\n",
    "        diff6 = [x-y for x,y in zip(An6_list, Ap6_list)]\n",
    "        diff7 = [x-y for x,y in zip(An7_list, Ap7_list)]\n",
    "        diff8 = [x-y for x,y in zip(An8_list, Ap8_list)]\n",
    "        sign  = ['1']\n",
    "    \n",
    "    So1 = gen_So(5, diff1)\n",
    "    So2 = gen_So(5, diff2)\n",
    "    So3 = gen_So(5, diff3)\n",
    "    So4 = gen_So(5, diff4)\n",
    "    So5 = gen_So(5, diff5)\n",
    "    So6 = gen_So(5, diff6)\n",
    "    So7 = gen_So(5, diff7)\n",
    "    So8 = gen_So(5, diff8)\n",
    "    So_list = So1 + So2 + So3 + So4 + So5 + So6 + So7 + So8\n",
    "\n",
    "    result = list(map(str, So_list))\n",
    "    tempout = ''.join(result)\n",
    "\n",
    "    p = abs((Ap1_list[-1]+Ap2_list[-1]+Ap3_list[-1]+Ap4_list[-1]+Ap5_list[-1]+Ap6_list[-1]+Ap7_list[-1]+Ap8_list[-1])-(An1_list[-1]+An2_list[-1]+An3_list[-1]+An4_list[-1]+An5_list[-1]+An6_list[-1]+An7_list[-1]+An8_list[-1]))\n",
    "    q = counter(tempout)\n",
    "\n",
    "    p_list=[]\n",
    "    q_list=[counter(tempout)]\n",
    "    out=[]\n",
    "    for k in range(2**7):\n",
    "        p_list.append(p)\n",
    "        if q < p:\n",
    "            q += 1\n",
    "            out.append('1')\n",
    "        elif q > p:\n",
    "            q -= 1\n",
    "            out.append('0')\n",
    "        else:\n",
    "            q = p\n",
    "            out.append(tempout[k])\n",
    "        q_list.append(q)\n",
    "    sout = sign + out\n",
    "    output = ''.join(sout)\n",
    "    \n",
    "    return output"
   ]
  },
  {
   "cell_type": "code",
   "execution_count": 31,
   "id": "257bae8b-5c30-493e-8067-75aca103f0e2",
   "metadata": {},
   "outputs": [],
   "source": [
    "def macNumpy(aIn,bIn,aSF,wSF): # a: input, b: weight\n",
    "    mList = []\n",
    "    for i in range(aIn.shape[0]): # 1 \n",
    "        for j in range(bIn.T.shape[1]): # 16\n",
    "            for k in range(aIn.shape[1]): # 784\n",
    "                mList.append(S2None(mul((aIn[i][k].astype(str)),(bIn.T)[k][j].astype(str))))\n",
    "    oList = OUR(mList)\n",
    "    return torch.tensor(mList).view(aIn.shape[0],bIn.T.shape[1])"
   ]
  },
  {
   "cell_type": "code",
   "execution_count": 32,
   "id": "550a666f-53be-41d2-b037-7a2dca7b2c6d",
   "metadata": {},
   "outputs": [],
   "source": [
    "def FindError(a,b):\n",
    "    error = 0\n",
    "    for anum,bnum in zip(a.view(-1),b.view(-1)):\n",
    "        e = (abs(bnum-anum)*100).item()\n",
    "        error += e\n",
    "    return error/(len(a.view(-1))+len(b.view(-1)))"
   ]
  },
  {
   "cell_type": "markdown",
   "id": "54840cc1-7914-4881-8c0e-0a034a285063",
   "metadata": {
    "tags": []
   },
   "source": [
    "# TEST : LFSR 4 bit"
   ]
  },
  {
   "cell_type": "code",
   "execution_count": 54,
   "id": "71b2c437-bbb2-412d-a8d2-5649887cea9d",
   "metadata": {},
   "outputs": [
    {
     "name": "stdout",
     "output_type": "stream",
     "text": [
      "tensor([[ 2.6063, -1.0187,  2.0703, -0.3212, -3.3674, -3.1076, -0.5250, -1.3472,\n",
      "          4.2343, -0.9597,  0.2342, -0.7310,  0.2126, -1.1464,  1.5389],\n",
      "        [-0.6839,  2.6538,  1.3520, -0.6460,  3.1900,  1.3727,  1.4249,  1.5117,\n",
      "          0.5072, -3.6595,  2.6295, -3.2059,  0.2244,  2.5245,  0.0532],\n",
      "        [ 0.3222,  3.1325, -0.1541, -1.3988,  4.8692,  2.1328, -3.7983, -0.5614,\n",
      "         -1.7757,  2.9871,  0.3570,  4.9635,  2.0120,  1.6224,  0.5795]])\n",
      "tensor([[ 0.6500,  1.4406,  0.1038,  1.5654,  1.2554],\n",
      "        [ 0.3557,  3.4946,  2.2698,  1.8435,  4.2460],\n",
      "        [ 0.0560, -2.1485,  1.3039,  3.9326, -1.2403],\n",
      "        [-1.6981, -3.3077,  0.7979, -0.6199, -0.4362],\n",
      "        [-1.5890, -0.9928,  2.9471, -0.3918,  4.1944],\n",
      "        [-0.7799, -0.0989, -3.5250,  2.8534,  0.7272],\n",
      "        [ 1.6771,  3.1918, -0.7986,  1.9996,  1.2360],\n",
      "        [ 1.3870, -0.2422,  2.3600,  0.3544,  0.2628],\n",
      "        [ 3.4321,  2.7226,  4.9671, -0.5197, -2.3248],\n",
      "        [ 0.8825, -0.7088,  2.1082, -2.2725,  2.1295],\n",
      "        [ 2.2655,  0.0416, -0.9281,  3.6626, -1.9295],\n",
      "        [ 1.5997,  0.0225, -1.2374,  2.8462, -0.6885],\n",
      "        [-1.5240,  0.6492, -3.9256, -3.7350,  2.4737],\n",
      "        [-1.5715, -2.2348,  4.0270,  2.8656,  3.2420],\n",
      "        [-0.9310,  1.8198,  0.1974,  1.4534,  2.9641]])\n"
     ]
    }
   ],
   "source": [
    "act = torch.rand((3,15))-torch.randint(5,(3,15))+torch.randint(5,(3,15))\n",
    "wei = torch.rand((15,5))-torch.randint(5,(15,5))+torch.randint(5,(15,5))\n",
    "print(act)\n",
    "print(wei)"
   ]
  },
  {
   "cell_type": "code",
   "execution_count": 55,
   "id": "030a9158-8a16-4fa9-9a10-adc6575f79d1",
   "metadata": {},
   "outputs": [],
   "source": [
    "act_f = flp2fixTensor(act,args.full_bits,args.frac_bits)\n",
    "wei_f = flp2fixTensor(wei,args.full_bits,args.frac_bits)"
   ]
  },
  {
   "cell_type": "markdown",
   "id": "acc99703-3b8d-4692-ba17-5d533836b3b4",
   "metadata": {},
   "source": [
    "### number to stochastic conversion"
   ]
  },
  {
   "cell_type": "code",
   "execution_count": 56,
   "id": "561fbec1-2942-424d-875f-66ea20265c93",
   "metadata": {},
   "outputs": [],
   "source": [
    "aSF = findMaxMin(act_f)\n",
    "wSF = findMaxMin(wei_f)"
   ]
  },
  {
   "cell_type": "code",
   "execution_count": 57,
   "id": "7ff8d726-1fc5-4a93-ab86-80a82b38650f",
   "metadata": {},
   "outputs": [],
   "source": [
    "def N2S(act,wei,aSF,wSF):\n",
    "    \n",
    "    lfsrlist = LFSRlist7()\n",
    "    \n",
    "    a = SNGnumpy(act/aSF,lfsrlist)\n",
    "    w = SNGpnumpy(wei/wSF,lfsrlist)\n",
    "    \n",
    "    return a,w"
   ]
  },
  {
   "cell_type": "code",
   "execution_count": 58,
   "id": "d932a224-d9b0-4228-9dc6-fcb33a279f4e",
   "metadata": {},
   "outputs": [],
   "source": [
    "def N2Sone(data,SF):\n",
    "    lfsrlist = LFSRlist7()\n",
    "    \n",
    "    o = SNGnumpy(data/SF,lfsrlist)\n",
    "    \n",
    "    return o"
   ]
  },
  {
   "cell_type": "markdown",
   "id": "5d4bf4e8-8560-4a21-9bea-3faa9a1309e0",
   "metadata": {},
   "source": [
    "### stochastic to number conversion"
   ]
  },
  {
   "cell_type": "code",
   "execution_count": 59,
   "id": "581959f3-2da0-4a19-a574-3fa36f02a903",
   "metadata": {},
   "outputs": [],
   "source": [
    "def S2N(a,w,aSF,wSF):\n",
    "    \n",
    "    sa = defSign(a)\n",
    "    sw = defSign(w)\n",
    "\n",
    "    ca = (CountOne(a)/(2**args.bBW)) * aSF *sa\n",
    "    cw = (CountOne(w)/(2**args.bBW)) * wSF *sw\n",
    "\n",
    "    return ca,cw"
   ]
  },
  {
   "cell_type": "code",
   "execution_count": 60,
   "id": "2756ce7a-fffd-4488-9822-0b3c908a999a",
   "metadata": {},
   "outputs": [
    {
     "name": "stdout",
     "output_type": "stream",
     "text": [
      "[['011100111011011001001010010000100111001011010001000110011010101000000011111111111110111101011100001101110100110001010110000010111'\n",
      "  '100001000000000000010000100111001000000000000110011000100000000011111100000000000000000000000000110000000001000110000000011100000'\n",
      "  '011000011011011001000010000000000011001011010000000010011010101000000001111101111100111101011100000101110100110000010110000000111'\n",
      "  '100000000000000000000000000001000000000000000000000000000000000000111100000000000000000000000000010000000000000000000000001100000'\n",
      "  '100111100100100111111111111111111100111110101111111101110101011111111110000010000011100010100011111010001011101111111101111111100'\n",
      "  '100111100100100111111101111111111100111100101111111101110101010111111110000010000011100010100011111010001011101111101001111111000'\n",
      "  '100000000000000000000000000011000000000000000010001000000000000001111100000000000000000000000000010000000000000010000000001100000'\n",
      "  '100011000000000010010000100111011000010000000110011000100000000011111100000000000001000000000001110000000001000110000000111101000'\n",
      "  '011110111111111111111111111000110111111111111101100111111111111110000011111111111111111111111111001111111111111101111111100011111'\n",
      "  '100001000000000000010000100111001000000000000110011000000000000011111100000000000000000000000000110000000001000010000000011100000'\n",
      "  '001000000000000000000000000000000000000000000000000000000000000000000000001100001100000000000000000000000000000000000000000000001'\n",
      "  '100001000000000000000000000011001000000000000010011000000000000001111100000000000000000000000000110000000000000010000000011100000'\n",
      "  '000000000000000000000000000000000000000000000000000000000000000000000000001100001100000000000000000000000000000000000000000000001'\n",
      "  '100001000000000010010000100111001000010000000110011000100000000011111100000000000000000000000000110000000001000110000000111100000'\n",
      "  '011000011011011000000000000000000011000001010000000010001010000000000001111101111100011101001100000101110100010000000010000000011']\n",
      " ['100001000000000000000000000011001000000000000010001000000000000001111100000000000000000000000000110000000000000010000000011100000'\n",
      "  '011100111011011001001010010000100111001011010001000110011010101000000011111111111110111111011100001101110100110001010110000010111'\n",
      "  '011000011001001000000000000000000011000001000000000010001000000000000001111101111100011101001100000100110100010000000010000000011'\n",
      "  '100001000000000000000000000011000000000000000010001000000000000001111100000000000000000000000000110000000000000010000000011100000'\n",
      "  '011100111111111101001010010000100111101011110001000111011110101000000011111111111110111111111110001111111110111001010111000010111'\n",
      "  '011000011001001000000000000000000011000001000000000010001000000000000001111101111100011101001100000100110100010000000010000000011'\n",
      "  '011000011011011000000000000000000011000001000000000010001000000000000001111101111100011101001100000100110100010000000010000000011'\n",
      "  '011000011011011000000000000000000011000001010000000010001010000000000001111101111100011101001100000100110100010000000010000000011'\n",
      "  '011000000000000000000000000000000000000000000000000000000000000000000000011100011100001100000100000000010000000000000000000000001'\n",
      "  '100111100110110111111111111111111100111110111111111101110111111111111110000010000011100010110011111011001111101111111101111111100'\n",
      "  '011100111011011001001010010000100111001011010001000110011010101000000011111111111110111111011100001101110100110001010110000010111'\n",
      "  '100111100100100111111101111111111100111100101111111101110101010111111110000010000011100010100011111010001011101111111001111111100'\n",
      "  '001000000000000000000000000000000000000000000000000000000000000000000000001100001100000000000000000000000000000000000000000000001'\n",
      "  '011000111011011001001010010000100111001011010001000110011010101000000011111111111100111101011100001101110100110001010110000010111'\n",
      "  '000000000000000000000000000000000000000000000000000000000000000000000000000000000000000000000000000000000000000000000000000000001']\n",
      " ['001000000000000000000000000000000000000000000000000000000000000000000000011100001100000100000000000000000000000000000000000000001'\n",
      "  '011100111111111101001010010000100111101011110001000111011110101000000011111111111110111111111110001111111100111001010111000010111'\n",
      "  '100000000000000000000000000000000000000000000000000000000000000000011100000000000000000000000000000000000000000000000000000000000'\n",
      "  '100011000000000010010000100111011000010000000110111000100000000011111100000000000001000000000001110000000001000110100000111101000'\n",
      "  '011111111111111111111111111111111111111111111111111111111111111111110011111111111111111111111111111111111111111111111111111111111'\n",
      "  '011000011011011001001010010000000011001011010000000010011010101000000001111101111100111101011100000101110100110000010110000000111'\n",
      "  '100111100110110111111111111111111100111110111111111101110111111111111111000011000011100011110011111111001111101111111101111111100'\n",
      "  '100000000000000000000000000011000000000000000010001000000000000001111100000000000000000000000000010000000000000010000000011100000'\n",
      "  '100011000000000010110101101111011000010100000110111000100001010111111100000000000001000000000001110000000001000110101000111101000'\n",
      "  '011100111111111101001010010000100111101011110001000110011110101000000011111111111110111111011110001101111100110001010111000010111'\n",
      "  '001000000000000000000000000000000000000000000000000000000000000000000000011100011100000100000000000000000000000000000000000000001'\n",
      "  '000000000000000000000000000000000000000000000000000000000000000000000000000000000000000000000000000000000000000000000000000000000'\n",
      "  '011000011011011001000010000000000011001011010000000010011010101000000001111101111100111101011100000101110100010000010110000000111'\n",
      "  '011000011011011000000000000000000011000001010000000010001010100000000001111101111100011101011100000101110100010000000010000000011'\n",
      "  '011000001000000000000000000000000001000000000000000000000000000000000000011100011100001100000100000000010000000000000000000000001']] (3, 15) 129\n",
      "[['000001100000100000000000000000000000000100000000000000000000000000000000000011111001110000110000010000000001000000000000000000001'\n",
      "  '000101110000111010010000000000000000000110000010000000000100010000000000000011111101111000111001011000001101100000100000000100001'\n",
      "  '000000000000000000000000000000000000000000000000000000000000000000000000000011000000000000000000000000000000000000000000000000001'\n",
      "  '000101110000111011010000000000000000000110001010000000000100010000000000000011111101111000111001011000001101100000100000010100001'\n",
      "  '000001110000110010010000000000000000000110000010000000000100010000000000000011111001111000111000011000001001100000100000000100001']\n",
      " ['000001000000000000000000000000000000000000000000000000000000000000000000000011110001100000100000000000000000000000000000000000001'\n",
      "  '001111111001111111111001011010010001101111011111010001001110111111101000000111111111111101111111111100011111111101110011111110001'\n",
      "  '000101111000111011011001001010000000100111001011000001000110011010100000000011111101111100111101011000001101110100110001010100001'\n",
      "  '000101110000111011010000001000000000000110001011000000000100011010100000000011111101111000111101011000001101110000100001010100001'\n",
      "  '011111111011111111111011111110110011111111111111110011011111111111111000001111111111111111111111111100111111111111110111111110001']\n",
      " ['000000000000000000000000000000000000000000000000000000000000000000000000000000000000000000000000000000000000000000000000000000001'\n",
      "  '111000000110000100100110110101101111010000110100101110111001100101010111111000000000000010000010000011100000001011001110101001110'\n",
      "  '000101110000110010010000000000000000000110000010000000000100010000000000000011111101111000111000011000001001100000100000000100001'\n",
      "  '001111111011111111111011011110110001111111011111110011001110111111111000001111111111111111111111111100111111111101110011111110001'\n",
      "  '110000000110000000000100100001001110010000100000001100110001000000000111110000000000000010000000000011100000000010001100000001110']\n",
      " ['110000000110000000000110110101101111010000100000101110110001000101010111111000000000000010000000000011100000001010001100000001110'\n",
      "  '111010001111000100101111111111111111111001110101111111111011100111111111111100000010000111000010100111110010011111011110101011110'\n",
      "  '000001100000110010000000000000000000000100000000000000000000000000000000000011111001110000111000010000001001000000000000000000001'\n",
      "  '100000000100000000000000000000001100000000000000001000100000000000000111100000000000000000000000000011000000000000001000000001110'\n",
      "  '100000000000000000000000000000001100000000000000001000000000000000000111100000000000000000000000000010000000000000001000000001100']\n",
      " ['110000000110000000000110100101101111010000100000101110110001000000010111111000000000000010000000000011100000001010001100000001110'\n",
      "  '110000000100000000000100100001001110000000100000001100100000000000000111110000000000000000000000000011000000000010001100000001110'\n",
      "  '000111111001111111011001001010010000101111001111010001000110111010101000000111111111111101111101111100011111110100110001010110001'\n",
      "  '100000000000000000000000000000001100000000000000001000000000000000000111100000000000000000000000000010000000000000000000000001100'\n",
      "  '011111111011111111111011111110110001111111111111110011011111111111111000001111111111111111111111111100111111111111110111111110001']\n",
      " ['100000000100000000000100000001001110000000000000001100100000000000000111110000000000000000000000000011000000000000001000000001110'\n",
      "  '100000000000000000000000000000000000000000000000000000000000000000000110000000000000000000000000000000000000000000000000000000000'\n",
      "  '111010001111000101101111111111111111111001110101111111111011101111111111111100000010000111000110100111110010011111011111111011110'\n",
      "  '000111111001111111011001001010010000101111001011010001000110011010101000000111111111111101111101111100011111110100110001010110001'\n",
      "  '000001100000110000000000000000000000000100000000000000000000000000000000000011111001110000110000010000001001000000000000000000001']\n",
      " ['000101110000111011010000000000000000000110001010000000000100011000000000000011111101111000111101011000001101100000100001010100001'\n",
      "  '001111111001111111111001001010010000101111001111010001001110111010101000000111111111111101111111111100011111110101110001011110001'\n",
      "  '100000000100000000000100000001001110000000000000001100100000000000000111110000000000000000000000000011000000000000001000000001110'\n",
      "  '000101110000111011010000001000000000100110001011000000000110011010100000000011111101111100111101011000001101110100100001010100001'\n",
      "  '000001110000110010010000000000000000000110000010000000000100010000000000000011111001111000111000011000001001100000100000000100001']\n",
      " ['000101110000110010010000000000000000000110000010000000000100010000000000000011111101111000111001011000001101100000100000000100001'\n",
      "  '100000000000000000000000000000001000000000000000000000000000000000000111000000000000000000000000000000000000000000000000000001100'\n",
      "  '000101111000111011011001001010000000100111001011010001000110011010100000000011111101111100111101011100001101110100110001010100001'\n",
      "  '000001000000000000000000000000000000000000000000000000000000000000000000000011110001100000100000000000000000000000000000000000001'\n",
      "  '000000000000000000000000000000000000000000000000000000000000000000000000000011100001100000100000000000000000000000000000000000001']\n",
      " ['001111111001111111111001011010010000101111011111010001001110111111101000000111111111111101111111111100011111110101110011111110001'\n",
      "  '000111111001111011011001001010010000100111001011010001000110011010101000000111111111111101111101011100001111110100110001010110001'\n",
      "  '000000000000000000000000000000000000000000000000000000000000000000000000000000000000000000000000000000000000000000000000000000000'\n",
      "  '100000000000000000000000000000001100000000000000001000100000000000000111100000000000000000000000000010000000000000001000000001110'\n",
      "  '111000000110000100100110110101101111011000110100101110111001100101010111111000000000000010000010100011110010001011001110101001110']\n",
      " ['000001100000110010000000000000000000000100000000000000000000010000000000000011111001110000111000010000001001100000000000000000001'\n",
      "  '100000000100000000000000000001001100000000000000001100100000000000000111110000000000000000000000000011000000000000001000000001110'\n",
      "  '000101110000111011010001001000000000100111001011000000000110011010100000000011111101111100111101011000001101110100100001010100001'\n",
      "  '111000000110000100100110110101101111011000110100101110111001100101010111111000000000000010000010100011110000001011001110101001110'\n",
      "  '000101110000111011011001001000000000100111001011000000000110011010100000000011111101111100111101011000001101110100100001010100001']\n",
      " ['000101111000111011011001001010000000100111001011000001000110011010100000000011111101111100111101011000001101110100100001010100001'\n",
      "  '000000000000000000000000000000000000000000000000000000000000000000000000000000000000000000000000000000000000000000000000000000001'\n",
      "  '100000000100000000000100100001001110000000100000001100100000000000000111110000000000000000000000000011000000000000001100000001110'\n",
      "  '001111111001111111111011011110010001101111011111110011001110111111101000000111111111111101111111111100011111111101110011111110001'\n",
      "  '111000000110000000000110110101101111010000110000101110110001000101010111111000000000000010000010000011100000001010001110101001110']\n",
      " ['000101110000111011010000000000000000000110001010000000000100010000000000000011111101111000111101011000001101100000100000010100001'\n",
      "  '000000000000000000000000000000000000000000000000000000000000000000000000000000000000000000000000000000000000000000000000000000001'\n",
      "  '110000000110000000000100100001001110010000100000001100110001000000000111110000000000000010000000000011100000000010001100000001110'\n",
      "  '000111111001111011011001001010010000101111001011010001000110011010101000000111111111111101111101111100011111110100110001010110001'\n",
      "  '100000000100000000000000000001001100000000000000001000100000000000000111110000000000000000000000000011000000000000001000000001110']\n",
      " ['110000000110000000000110100101101110010000100000101110110001000000010111111000000000000010000000000011100000001010001100000001110'\n",
      "  '000001100000100000000000000000000000000100000000000000000000000000000000000011111001110000110000010000000001000000000000000000001'\n",
      "  '111110011111001101111111111111111111111001111101111111111011101111111111111100000110000111000111101111110110011111111111111111110'\n",
      "  '111110001111001101101111111111111111111001111101111111111011101111111111111100000110000111000111100111110110011111011111111011110'\n",
      "  '000101111000111011011001001010010000100111001011010001000110011010101000000011111101111100111101011100001101110100110001010110001']\n",
      " ['110000000110000000000110100101101111010000100000101110110001000000010111111000000000000010000000000011100000001010001100000001110'\n",
      "  '111000000110000100100110110101101111010000110100101110111001100101010111111000000000000010000010100011110000001011001110101001110'\n",
      "  '001111111011111111111011011110110001111111011111110011011111111111111000001111111111111111111111111100111111111111110011111110001'\n",
      "  '000111111001111111011001001010010000101111001011010001000110011010101000000111111111111101111101111100011111110100110001010110001'\n",
      "  '001111111001111111111001001010010000101111011111010001001110111010101000000111111111111101111111111100011111110101110001111110001']\n",
      " ['110000000100000000000100100001001110000000100000001100100000000000000111110000000000000000000000000011000000000000001100000001110'\n",
      "  '000101110000111011010000001000000000000110001011000000000100011010000000000011111101111000111101011000001101110000100001010100001'\n",
      "  '000000000000000000000000000000000000000000000000000000000000000000000000000011100001000000000000000000000000000000000000000000001'\n",
      "  '000101110000111010010000000000000000000110000010000000000100010000000000000011111101111000111001011000001101100000100000000100001'\n",
      "  '000111111001111111011001001010010000101111001111010001000110111010101000000111111111111101111101111100011111110100110001010110001']] (15, 5)\n"
     ]
    }
   ],
   "source": [
    "a,w = N2S(act,wei,aSF,wSF)\n",
    "print(a, a.shape, len(a[0][0]))\n",
    "print(w, w.shape)"
   ]
  },
  {
   "cell_type": "code",
   "execution_count": 97,
   "id": "bf2dd44d-3972-4e23-b215-078ecd700f19",
   "metadata": {},
   "outputs": [],
   "source": [
    "def multest(aIn,wIn,aSF,wSF):\n",
    "    mlist=[]\n",
    "    out = 0\n",
    "    result=[]\n",
    "    for a in range(aIn.shape[0]): # 3\n",
    "        for b in range(wIn.shape[1]): # 5\n",
    "            acc = []\n",
    "            for c in range(aIn.shape[1]): #15\n",
    "#                print(aIn[a][c])\n",
    "#                print(wIn[c][b])\n",
    "                acc.append(mul(aIn[a][c].astype(str),wIn[c][b].astype(str)))\n",
    "#                print(mul(aIn[a][c].astype(str),wIn[c][b].astype(str)))\n",
    "#                print('----------------------------------------------------------')\n",
    "            mlist.append(acc)\n",
    "#    return np.array(mlist).reshape(aIn.shape)\n",
    "    for i in range(aIn.shape[1]): \n",
    "        out = OUR(mlist[i])\n",
    "        print(f'out = {out}')\n",
    "        result.append(out)\n",
    "    print(f'mlist = {mlist}', len(mlist), len(mlist[0])) \n",
    "    print(f'result = {result}')\n",
    "#    return torch.tensor(result).view(aIn.shape[0],wIn.shape[1])\n",
    "    return np.array(result).reshape(aIn.shape[0],wIn.shape[1])"
   ]
  },
  {
   "cell_type": "code",
   "execution_count": 98,
   "id": "dff6e4ca-e0e2-4e78-8325-201e235e98b7",
   "metadata": {},
   "outputs": [
    {
     "name": "stdout",
     "output_type": "stream",
     "text": [
      "out = 011111111111111111111111111111111100111111111100001111111111111110011111100011111111111111111111100000001110011111111111100000101\n",
      "out = 011111111111111111111111111101111100000111101000001101100010001000010111100011111111111111111111100110000111111110111000100000001\n",
      "out = 100000000000000000011100000010000000000000000111110000000000000000111000000000000001100000000000011111101001111110010000011111110\n",
      "out = 100000000000000000000000000010010000000100000011010000100000000010111001100000000000000000000000011110000000000000100000011111110\n",
      "out = 111111111111111111111111111111111111111111111111111111111111111111111111111111100001100000000000111111111111111111111111111111111\n",
      "out = 100000000000000000000000000000000011111110001010000111011100010000000001111110000000000000000000011111111000100000100110010100110\n",
      "out = 011111101101011111001000000001001000000000000000001000000000000001111100000000001111111111111111100110000000111010011000000000001\n",
      "out = 011111111111111111111111111111111000000011111001001001111011111100000000000000111111111111111111100110010111111111011000000001001\n",
      "out = 011111111111111111111111111111111111111111111111111111111111111111111111111111111111111111111111100111111111111111011110100000001\n",
      "out = 011111111111111111111111111111111111111111111111001011111111111100000100000001111111111111111111100111011110111111111111100001001\n",
      "out = 111111111111100011111111101010110111111111111111110111111101011110101001111111110001000000000000011111111111111110111111111111111\n",
      "out = 100000000000000000000001101000010111100100001011010111000000111010000001111110000000000000000000011011111011100000111100010110110\n",
      "out = 011111111111111111111111111111111111100011111101111101100011011010000110000000111111111111111111101110001111111110101000000011001\n",
      "out = 100000000000000000000000000000000000000000000110000011001100111010111001111110000000000000000000010001111000000001100111010100110\n",
      "out = 011111111111111111111111111111111111111111111111111111111111111111111111111111111111111111111111111111111111111111111111111111111\n",
      "mlist = [['000000100000000000000000000000000000000000000000000000000000000000000000000011111000110000010000000000000000000000000000000000001', '100001000000000000000000000000000000000000000000000000000000000000000000000000000000000000000000000000000000000000000000000000000', '000000000000000000000000000000000000000000000000000000000000000000000000000000000000000000000000000000000000000000000000000000001', '000000000000000000000000000001000000000000000000000000000000000000010100000000000000000000000000000000000000000000000000000000000', '000000000100000000000110100101101100010000100000101100110001000000010110000000000000000010000000000010000000001010001100000001100', '000000000100000000000100000001001100000000000000001100100000000000000110000000000000000000000000000010000000000000001000000001000', '100000000000000000000000000000000000000000000010000000000000000000000000000000000000000000000000010000000000000000000000000100000', '100001000000000010010000000000000000000000000010000000000000000000000000000000000001000000000001010000000001000000000000000100000', '001110111001111111111001011000010000101111011101000001001110111110000000000111111111111101111111001100011111110101110011100010001', '100001000000000000000000000000000000000000000000000000000000000000000000000000000000000000000000010000000001000000000000000000000', '000000000000000000000000000000000000000000000000000000000000000000000000000000001100000000000000000000000000000000000000000000001', '100001000000000000000000000000000000000000000010000000000000000000000000000000000000000000000000010000000000000000000000010100000', '100000000000000000000000000000000000000000000000000000000000000000000000001000000000000000000000000000000000000000000000000000000', '000000000000000000000000100101001000010000000000001000100000000000010100000000000000000000000000000000000000000010000000000000000', '110000000000000000000000000000000010000000000000000000000000000000000001110000000000000000000000000001000000000000000000000000010'], ['000100110000011000000000000000000000000010000000000000000000000000000000000011111100111000011000001000000100100000000000000000001', '100001000000000000010000000010000000000000000110010000000000000011101000000000000000000000000000110000000001000100000000011100000', '111000000010000000000010000000000011000000010000000010011000100000000001111000000000000000000000000001100000000000000110000000110', '000000000000000000000000000001000000000000000000000000000000000000111100000000000000000000000000000000000000000000000000001000000', '000000000100000000000100100001001100000000100000001100100000000000000110000000000000000000000000000010000000000010001100000001100', '000000000000000000000000000000000000000000000000000000000000000000000110000000000000000000000000000000000000000000000000000000000', '100000000000000000000000000010000000000000000010000000000000000000101000000000000000000000000000010000000000000000000000001100000', '000000000000000000000000000000001000000000000000000000000000000000000100000000000000000000000000000000000000000000000000000001000', '000110111001111011011001001000010000100111001001000001000110011010000000000111111111111101111101001100001111110100110001000010001', '000000000000000000000000000001001000000000000000001000000000000000000100000000000000000000000000000000000000000000000000000000000', '000000000000000000000000000000000000000000000000000000000000000000000000000000000000000000000000000000000000000000000000000000001', '100000000000000000000000000000000000000000000000000000000000000000000000000000000000000000000000000000000000000000000000000000000', '000000000000000000000000000000000000000000000000000000000000000000000000000000001000000000000000000000000000000000000000000000001', '000000000000000000000000100101001000010000000100001000100000000001010100000000000000000000000000100000000000000010000000101000000', '000000010000011000000000000000000000000000000000000000000000000000000000000001111100011000001100000000000100010000000000000000001'], ['000000000000000000000000000000000000000000000000000000000000000000000000000011000000000000000000000000000000000000000000000000001', '100001000000000000010000000010000000000000000010000000000000000010100000000000000000000000000000010000000001000100000000010100000', '000000010000010000000000000000000000000010000000000000000000000000000000000001111100111000011000000000000000100000000000000000001', '100000000000000000000000000000000000000000000000000000000000000000000000000000000000000000000000010000000000000000000000000000000', '100111100000100111011001001010010000101110001111010001000100011010101000000010000011100000100001111000001011100100110001010110000', '000010000100000101101101111111111100111000100101111101110001000111111110000000000010000010000010100010000010001111001001111011000', '000000000000000000000000000001000000000000000000001000000000000000000100000000000000000000000000000000000000000000000000000000000', '100001000000000010010000000010000000000000000010010000000000000010100000000000000001000000000001010000000001000100000000010100000', '000000000000000000000000000000000000000000000000000000000000000000000000000000000000000000000000000000000000000000000000000000000', '100001000000000000010000000000000000000000000010000000000000000010100000000000000000000000000000010000000001000000000000010100000', '100000000000000000000000000000000000000000000000000000000000000000000000000000000000000000000000000000000000000000000000000000000', '000000000000000000000000000001001000000000000000001000000000000000000100000000000000000000000000000000000000000010000000000000000', '100000000000000000000000000000000000000000000000000000000000000000000000001100000100000000000000000000000000000000000000000000000', '100001000000000010010000000110000000010000000110010000000000000011111000000000000000000000000000110000000001000110000000111100000', '000000000000000000000000000000000000000000000000000000000000000000000000000001100000000000000000000000000000000000000000000000001'], ['000100110000011001000000000000000000000010000000000000000000000000000000000011111100111000011000001000000100100000000000000000001', '100001000000000000010000000000000000000000000010000000000000000010100000000000000000000000000000010000000001000000000000010100000', '001000011011011001000010000000000001001011010000000010001010101000000000001101111100111101011100000100110100110000010010000000001', '000000000000000000000000000000000000000000000000000000000000000000000100000000000000000000000000000000000000000000000000000000000', '000000000000000000000000000000001100000000000000001000000000000000000110000000000000000000000000000010000000000000000000000001100', '100111100000100111011001001010010000101100001011010001000100010010101000000010000011100000100001111000001011100100100001010110000', '100000000000000000000000000000000000000000000010000000000000000000100000000000000000000000000000010000000000000000000000000100000', '100001000000000000000000000000000000000000000000000000000000000000000000000000000001000000000000000000000000000000000000000000000', '100000000000000000000000000000000100000000000000000000100000000000000011100000000000000000000000000010000000000000001000000001110', '000000000000000000000000100101001000000000000100001000000000000001010100000000000000000000000000100000000000000010000000001000000', '001000000000000000000000000000000000000000000000000000000000000000000000000100001100000000000000000000000000000000000000000000001', '100001000000000000000000000010000000000000000010010000000000000000101000000000000000000000000000110000000000000000000000010100000', '100000000000000000000000000000000000000000000000000000000000000000000000001100000100000000000000000000000000000000000000000000000', '100001000000000010010000000010000000000000000010010000000000000010101000000000000000000000000000110000000001000100000000010100000', '000000010000011000000000000000000000000000000000000000000000000000000000000001111100011000001000000000000100000000000000000000001'], ['000000110000010000000000000000000000000010000000000000000000000000000000000011111000111000011000001000000000100000000000000000001', '100001000000000000010000100110000000000000000110010000000000000011111000000000000000000000000000110000000001000110000000011100000', '110000000010000000000000000000000010000000000000000000010000000000000001110000000000000000000000000001100000000000000100000000110', '000000000000000000000000000000000000000000000000000000000000000000000100000000000000000000000000000000000000000000000000000000000', '100111100000100111111011111110110000111110101111110001010101011111111000000010000011100010100011111000001011101111110101111110000', '100001100000100000000000000000000000000100000000000000000000000000000000000010000001100000100000010000001001000000000000000000000', '100000000000000000000000000000000000000000000010000000000000000000000000000000000000000000000000010000000000000000000000000100000', '100000000000000000000000000000000000000000000000000000000000000000000000000000000001000000000000000000000000000000000000000000000', '111000000110000100100110110000100111011000110100100110111001100100000011111000000000000010000010000011110010001001001110100001110', '100001000000000000010000000000000000000000000010000000000000000010100000000000000000000000000000010000000001000000000000010100000', '101000000000000000000000000000000000000000000000000000000000000000000000001000000000000000000000000000000000000000000000000000000', '000000000000000000000000000001001000000000000000001000000000000000000100000000000000000000000000000000000000000000000000000000000', '000000000000000000000000000000000000000000000000000000000000000000000000000000001100000000000000000000000000000000000000000000001', '100001000000000010010000000010000000000000000110010000000000000010101000000000000000000000000000110000000001000100000000111100000', '000000011001011000000000000000000000000001000000000000000010000000000000000101111100011101001100000100010100010000000000000000001'], ['100001000000000000000000000000000000000000000000000000000000000000000000000000000000000000000000010000000000000000000000000000000', '000000000000000000000000000000000000000000000000000000000000000000000000000011110000100000000000000000000000000000000000000000001', '000000000000000000000000000000000000000000000000000000000000000000000000000000000000000000000000000000000000000000000000000000001', '000000000000000000000000000001000000000000000000001000000000000001010100000000000000000000000000000000000000000010000000000000000', '110000000110000000000010000000100111000000100000000110010000000000000011111000000000000010000000000011100000001000000100000000110', '100000000000000000000000000000000010000000000000000000000000000000000001110000000000000000000000000000000000000000000000000000010', '000000010000011000000000000000000000000000000000000000000000000000000000000001111100011000001100000000000100000000000000000000001', '000000010000010000000000000000000000000000000000000000000000000000000000000001111100011000001000000000000100000000000000000000001', '001000000000000000000000000000000000000000000000000000000000000000000000000100011100001100000100000000010000000000000000000000001', '100001100000110010000000000000000000000100000000000000000000010000000000000010000001100000110000010000001001100000000000000000000', '000100111000011001001000000000000000000011000001000000000010001000000000000011111100111100011100001000000100110000000000000000001', '100101100000100011010000000000000000000100001010000000000100010000000000000010000001100000100001011000001001100000100000010100000', '100000000000000000000000000000000000000000000000000000000000000000000000001000000000000000000000000000000000000000000000000000000', '110000000010000000000010000000100111000000000000000110010000000000000011111000000000000000000000000001100000000000000100000000110', '100000000000000000000000000000000000000000000000000000000000000000000000000000000000000000000000000000000000000000000000000000000'], ['100001000000000000000000000000000000000000000010000000000000000000000000000000000000000000000000010000000000000000000000000100000', '001100111001011001001000010000000001001011010001000000001010101000000000000111111110111101011100001100010100110001010010000010001', '111000000000000000000000000000000011000000000000000010001000000000000001111000000000000000000000000000100000000000000010000000010', '000000000000000000000000000011000000000000000000001000000000000001111100000000000000000000000000100000000000000010000000001000000', '110000000100000000000000000000000110000000100000000100000000000000000011110000000000000000000000000011000000000000000100000000110', '100000000000000000000000000000000000000000000000000000000000000000000000000000000000000000000000000000000000000000000000000000000', '001000011001011000000000000000000000000001000000000000001000000000000000000101111100011101001100000100010100010000000000000000001', '100000000000000000000000000000000000000000000000000000000000000000000001000000000000000000000000000000000000000000000000000000000', '000000000000000000000000000000000000000000000000000000000000000000000000000100011100001100000100000000000000000000000000000000001', '000000000100000000000000000001001100000000000000001100100000000000000110000000000000000000000000000011000000000000001000000001100', '000000000000000000000000000000000000000000000000000000000000000000000000000000000000000000000000000000000000000000000000000000001', '100000000000000000000000000000000000000000000000000000000000000000000000000000000000000000000000000000000000000000000000000000000', '000000000000000000000000000000000000000000000000000000000000000000000000000000001000000000000000000000000000000000000000000000001', '111000000010000000000010010000100111000000010000000110011000100000000011111000000000000000000000000001110000000001000110000000110', '000000000000000000000000000000000000000000000000000000000000000000000000000000000000000000000000000000000000000000000000000000001'], ['100000000000000000000000000000000000000000000000000000000000000000000000000000000000000000000000000000000000000000000000000000000', '000100111000011001001000000000000000000011000001000000000010001000000000000011111100111100011100001000000100110000010000000000001', '000000010000000000000000000000000000000000000000000000000000000000000000000001111100011000001000000000000000000000000000000000001', '100001000000000000000000000000000000000000000000000000000000000000000000000000000000000000000000010000000000000000000000000000000', '000100111001111101001000000000000000101011000001000001000110101000000000000111111110111101111100001100011110110000010001000010001', '111000001001000000000000000000000011000001000000000010001000000000000001111100000000000101000100000100110000010000000010000000010', '100000000000000000000000000000000010000000000000000000000000000000000001110000000000000000000000000000000000000000000000000000010', '000000011000011000000000000000000000000001000000000000000010000000000000000001111100011100001100000100000100010000000000000000001', '000000000000000000000000000000000000000000000000000000000000000000000000000000000000000000000000000000000000000000000000000000000', '100101100000110011010001001000000000100110001011000000000110011010100000000010000001100000110001011000001101100100100001010100000', '100000000000000000000000000000000110000000000000000100000000000000000011110000000000000000000000000001000000000000000100000000110', '000000000100000000000100100001001100010000100000001100110001000000000110000000000000000010000000000010000000000010001000000001100', '101000000000000000000000000000000000000000000000000000000000000000000000001100000100000000000000000000000000000000000000000000000', '001000111011011001001010010000100001001011010001000010011010101000000000001111111100111101011100001100110100110001010010000010001', '000000000000000000000000000000000000000000000000000000000000000000000000000000000000000000000000000000000000000000000000000000001'], ['100001000000000000000000000000000000000000000010000000000000000000000000000000000000000000000000010000000000000000000000010100000', '000100110000011001000000000000000000000010000001000000000000001000000000000011111100111000011100001000000100110000000000000000001', '001000011001001000000000000000000001000001000000000010001000000000000000001101111100011101001100000100110100010000000010000000001', '000000000000000000000000000000000000000000000000001000000000000000000100000000000000000000000000000000000000000000000000000000000', '100000000000000000000000000000000100000000000000000000000000000000000011100000000000000000000000000010000000000000000000000000100', '000000011001001000000000000000000000000001000000000000000000000000000000000101111100011101001100000100010100010000000000000000001', '000000010000011000000000000000000000000000000000000000000000000000000000000001111100011100001100000000000100010000000000000000001', '000000000000000000000000000000000000000000000000000000000000000000000000000001110000000000000000000000000000000000000000000000001', '100000000000000000000000000000000000000000000000000000000000000000000000000000000000000000000000000000000000000000000000000000000', '000000000110000100100110110101101100011000110100101100110001100101010110000000000000000010000010100011000000001011001100101001100', '001100111001011001001010010000000001001011010001000010001010101000000000000111111110111101011100001100010100110001010010000010001', '100111100000100011011001001010010000101100001011010001000100010010101000000010000011100000100001111000001011100100110001010110000', '101000000000000000000000000000000000000000000000000000000000000000000000001100000100000000000000000000000000000000000000000000000', '000000111001011001001000000000000000001011000001000000000010001000000000000111111100111101011100001100010100110000010000000010001', '000000000000000000000000000000000000000000000000000000000000000000000000000000000000000000000000000000000000000000000000000000001'], ['100001000000000000000000000000000000000000000010000000000000000000000000000000000000000000000000010000000000000000000000000100000', '011100111011011001001010010000100011001011010001000010011010101000000000001111111110111111011100001100110100110001010110000010001', '110000000000000000000000000000000010000000000000000000000000000000000001110000000000000000000000000000100000000000000000000000010', '000000000000000000000000000000000000000000000000001000000000000000000100000000000000000000000000000000000000000000000000000000000', '011100111011111101001010010000100001101011110001000011011110101000000000001111111110111111111110001100111110111001010111000010001', '000000000000000000000000000000000000000000000000000000000000000000000000000001111000010000000000000000000000000000000000000000001', '000000010000010000000000000000000000000000000000000000000000000000000000000001111000011000001000000000000000000000000000000000001', '000000000000000000000000000000000000000000000000000000000000000000000000000001100000000000000000000000000000000000000000000000001', '111000000000000000000000000000000000000000000000000000000000000000000000011000000000000000000000000000010000000000000000000000000', '100101100000110011011001001000000000100110001011000000000110011010100000000010000001100000110001011000001101100100100001010100000', '111000000010000000000010010000100111000000010000000110010000000000000011111000000000000010000000000001100000000000000110000000110', '000000000100000000000000000001001100000000000000001000100000000000000110000000000000000000000000000010000000000000001000000001100', '000000000000000000000000000000000000000000000000000000000000000000000000000000001100000000000000000000000000000000000000000000001', '001000111001011001001000000000000000001011010001000000001010101000000000000111111100111101011100001100010100110001010000000010001', '000000000000000000000000000000000000000000000000000000000000000000000000000000000000000000000000000000000000000000000000000000001'], ['000000000000000000000000000000000000000000000000000000000000000000000000000000001000000000000000000000000000000000000000000000001', '000000000000000000000000000000000000000000000000000000000000000000000000000011110000100000100000000000000000000000000000000000001', '100000000000000000000000000000000000000000000000000000000000000000000000000000000000000000000000000000000000000000000000000000000', '000000000000000000000000100101001000010000000000101000100000000001010100000000000000000000000000000000000000000010000000000001000', '110000000110000000000110100101101111010000100000101110110001000000010011111000000000000010000000000011100000001010001100000001110', '100000000000000000000000000000000010000000000000000000000000000000000001110000000000000000000000000001000000000000000000000000110', '100101100000110011010000000000000000000110001010000000000100011000000000000011000001100000110001011000001101100000100001010100000', '100000000000000000000000000000000000000000000010000000000000000000000000000000000000000000000000010000000000000000000000000100000', '100011000000000010110001001010010000000100000110010000000000010111101000000000000001000000000001110000000001000100100000111100000', '000000100000110000000000000000000000000000000000000000000000000000000000000011111000110000011000000000001000100000000000000000001', '000000000000000000000000000000000000000000000000000000000000000000000000000000011100000100000000000000000000000000000000000000001', '000000000000000000000000000000000000000000000000000000000000000000000000000000000000000000000000000000000000000000000000000000000', '110000000010000000000010000000000010000000000000000010010000000000000001111000000000000000000000000001100000000000000100000000110', '110000000010000000000000000000000011000000000000000010000000000000000001111000000000000000000000000001100000000000000000000000010', '110000000000000000000000000000000000000000000000000000000000000000000000010000000000000000000000000000000000000000000000000000000'], ['000000000000000000000000000000000000000000000000000000000000000000000000000000001100000000000000000000000000000000000000000000001', '001100111001111101001000010000000001101011010001000001001110101000000000000111111110111101111110001100011100111001010011000010001', '000000000000000000000000000000000000000000000000000000000000000000010100000000000000000000000000000000000000000000000000000000000', '000010000000000000000000100111011000010000000100111000100000000011111100000000000000000000000000100000000000000110000000101001000', '110000000100000000000100100001001110000000100000001100100000000000000011110000000000000000000000000011000000000010001100000001110', '100000000000000000000000000000000000000000000000000000000000000000000000000000000000000000000000000000000000000000000000000000000', '100111100000110111111001001010010000101110001111010001000110111010101000000011000011100001110011111100001111100101110001011110000', '000000000000000000000000000000000000000000000000000000000000000000000100000000000000000000000000000000000000000000000000000000000', '100011000000000010010001001010010000000100000010010000000000010010101000000000000001000000000001010000000001000100100000010100000', '100000000100000000000000000000000100000000000000000100000000000000000011110000000000000000000000000001000000000000000000000000110', '000000000000000000000000000000000000000000000000000000000000000000000000000000000000000000000000000000000000000000000000000000001', '000000000000000000000000000000000000000000000000000000000000000000000000000000000000000000000000000000000000000000000000000000000', '000000000000000000000000000000000000000000000000000000000000000000000000000001111000110000010000000000000000000000000000000000001', '111000000010000000000000000000000011000000010000000010001000100000000001111000000000000000000000000001110000000000000010000000010', '000000000000000000000000000000000000000000000000000000000000000000000000000000011100001000000100000000000000000000000000000000001'], ['000000000000000000000000000000000000000000000000000000000000000000000000000000000000000000000000000000000000000000000000000000001', '000100111000111001001000000000000000100011000001000001000110001000000000000011111100111100111100001000001100110000010001000000001', '100000000000000000000000000000000000000000000000000000000000000000000000000000000000000000000000000000000000000000000000000000000', '100001000000000010000000000000000000000000000000000000000000000000000000000000000001000000000000010000000001000000000000000000000', '000111111001111111011001001010010000101111001111010001000110111010100000000111111111111101111101111100011111110100110001010110001', '111000001011000001001010010000000011001001010000000010011010101000000001111100000000000101000100000101110000010000010110000000110', '000000000100000000000100000001001100000000000000001100100000000000000111000000000000000000000000000011000000000000001000000001100', '100000000000000000000000000010000000000000000010000000000000000000100000000000000000000000000000010000000000000000000000010100000', '100000000000000000000000000000000000000000000000000000000000000000000000000000000000000000000000000000000000000000000000000000000', '000100110000111001000000000000000000100011000001000000000110001000000000000011111100111100011100001000001100110000000001000000001', '100000000000000000000000000000000000000000000000000000000000000000000000010000000000000000000000000000000000000000000000000000000', '100000000000000000000000000000000000000000000000000000000000000000000000000000000000000000000000000000000000000000000000000000000', '111000011011001001000010000000000011001001010000000010011010101000000001111100000100000101000100000101110100010000010110000000110', '001000011011011000000000000000000001000001010000000010001010100000000000001101111100011101011100000100110100010000000010000000001', '000000000000000000000000000000000000000000000000000000000000000000000000000000000000000000000000000000000000000000000000000000001'], ['000000000000000000000000000000000000000000000000000000000000000000000000000000001100000000000000000000000000000000000000000000001', '000100110000111001000000000000000000000010000001000000000100001000000000000011111100111000111100001000001100110000000001000000001', '100000000000000000000000000000000000000000000000000000000000000000011000000000000000000000000000000000000000000000000000000000000', '000000000000000000000000000000001000000000000000001000100000000000000100000000000000000000000000000000000000000000000000000001000', '100000000000000000000000000000001100000000000000001000000000000000000011100000000000000000000000000010000000000000000000000001100', '000000011001011001001000000000000000001011000000000000000010001000000000000101111100111101011100000100010100110000010000000000001', '100101100000110011010000001000000000100110001011000000000110011010100000000011000001100000110001011000001101100100100001010100000', '100000000000000000000000000000000000000000000000000000000000000000000000000000000000000000000000000000000000000000000000000000000', '000000000000000000000000000000001000000000000000001000100000000000000100000000000000000000000000000000000000000000001000000001000', '111000000110000100000010010000100111001000110000000110011000100000000011111000000000000010000010000001110000000001000110000000110', '001000000000000000000000000000000000000000000000000000000000000000000000000100011100000100000000000000000000000000000000000000001', '000000000000000000000000000000000000000000000000000000000000000000000000000000000000000000000000000000000000000000000000000000000', '111000001011001001000010000000000011001001010000000010011010101000000001111100000100000101000100000101110100010000010110000000110', '000000011001011000000000000000000000000001000000000000000010000000000000000101111100011101011100000100010100010000000000000000001', '000000000000000000000000000000000000000000000000000000000000000000000000000000011100001000000000000000000000000000000000000000001'], ['000000000000000000000000000000000000000000000000000000000000000000000000000000001000000000000000000000000000000000000000000000001', '011100111011111101001010010000100011101011110001000011011110101000000000001111111110111111111110001100111100111001010111000010001', '000000000000000000000000000000000000000000000000000000000000000000000100000000000000000000000000000000000000000000000000000000000', '000000000000000000000000000000001000000000000000001000000000000000000100000000000000000000000000000000000000000000000000000001000', '011111111011111111111011111110110001111111111111110011011111111111110000001111111111111111111111111100111111111111110111111110001', '000000000000010000000000000000000000000000000000000000000000000000000000000001111000110000010000000000000000000000000000000000001', '100001100000110010010000000000000000000110000010000000000100010000000000000011000001100000110000011000001001100000100000000100000', '100000000000000000000000000000000000000000000000000000000000000000000000000000000000000000000000000000000000000000000000000000000', '000000000000000000100100100101001000010000000100101000100001000101010100000000000000000000000000100000000000000010001000101001000', '000100110000111001001000000000000000100011000001000000000110001000000000000011111100111100011100001000001100110000000001000000001', '101000000000000000000000000000000000000000000000000000000000000000000000011000000000000000000000000000000000000000000000000000000', '100000000000000000000000000000000000000000000000000000000000000000000000000000000000000000000000000000000000000000000000000000000', '000000011000011001000000000000000000000011000000000000000010001000000000000001111100111100011100000100000100010000010000000000001', '001000011001011000000000000000000000000001010000000000001010100000000000000101111100011101011100000100010100010000000000000000001', '000000001000000000000000000000000000000000000000000000000000000000000000000100011100001100000100000000010000000000000000000000001']] 15 15\n",
      "result = ['011111111111111111111111111111111100111111111100001111111111111110011111100011111111111111111111100000001110011111111111100000101', '011111111111111111111111111101111100000111101000001101100010001000010111100011111111111111111111100110000111111110111000100000001', '100000000000000000011100000010000000000000000111110000000000000000111000000000000001100000000000011111101001111110010000011111110', '100000000000000000000000000010010000000100000011010000100000000010111001100000000000000000000000011110000000000000100000011111110', '111111111111111111111111111111111111111111111111111111111111111111111111111111100001100000000000111111111111111111111111111111111', '100000000000000000000000000000000011111110001010000111011100010000000001111110000000000000000000011111111000100000100110010100110', '011111101101011111001000000001001000000000000000001000000000000001111100000000001111111111111111100110000000111010011000000000001', '011111111111111111111111111111111000000011111001001001111011111100000000000000111111111111111111100110010111111111011000000001001', '011111111111111111111111111111111111111111111111111111111111111111111111111111111111111111111111100111111111111111011110100000001', '011111111111111111111111111111111111111111111111001011111111111100000100000001111111111111111111100111011110111111111111100001001', '111111111111100011111111101010110111111111111111110111111101011110101001111111110001000000000000011111111111111110111111111111111', '100000000000000000000001101000010111100100001011010111000000111010000001111110000000000000000000011011111011100000111100010110110', '011111111111111111111111111111111111100011111101111101100011011010000110000000111111111111111111101110001111111110101000000011001', '100000000000000000000000000000000000000000000110000011001100111010111001111110000000000000000000010001111000000001100111010100110', '011111111111111111111111111111111111111111111111111111111111111111111111111111111111111111111111111111111111111111111111111111111']\n",
      "[['011111111111111111111111111111111100111111111100001111111111111110011111100011111111111111111111100000001110011111111111100000101'\n",
      "  '011111111111111111111111111101111100000111101000001101100010001000010111100011111111111111111111100110000111111110111000100000001'\n",
      "  '100000000000000000011100000010000000000000000111110000000000000000111000000000000001100000000000011111101001111110010000011111110'\n",
      "  '100000000000000000000000000010010000000100000011010000100000000010111001100000000000000000000000011110000000000000100000011111110'\n",
      "  '111111111111111111111111111111111111111111111111111111111111111111111111111111100001100000000000111111111111111111111111111111111']\n",
      " ['100000000000000000000000000000000011111110001010000111011100010000000001111110000000000000000000011111111000100000100110010100110'\n",
      "  '011111101101011111001000000001001000000000000000001000000000000001111100000000001111111111111111100110000000111010011000000000001'\n",
      "  '011111111111111111111111111111111000000011111001001001111011111100000000000000111111111111111111100110010111111111011000000001001'\n",
      "  '011111111111111111111111111111111111111111111111111111111111111111111111111111111111111111111111100111111111111111011110100000001'\n",
      "  '011111111111111111111111111111111111111111111111001011111111111100000100000001111111111111111111100111011110111111111111100001001']\n",
      " ['111111111111100011111111101010110111111111111111110111111101011110101001111111110001000000000000011111111111111110111111111111111'\n",
      "  '100000000000000000000001101000010111100100001011010111000000111010000001111110000000000000000000011011111011100000111100010110110'\n",
      "  '011111111111111111111111111111111111100011111101111101100011011010000110000000111111111111111111101110001111111110101000000011001'\n",
      "  '100000000000000000000000000000000000000000000110000011001100111010111001111110000000000000000000010001111000000001100111010100110'\n",
      "  '011111111111111111111111111111111111111111111111111111111111111111111111111111111111111111111111111111111111111111111111111111111']]\n"
     ]
    }
   ],
   "source": [
    "c = multest(a,w,aSF,wSF) \n",
    "print(c)"
   ]
  },
  {
   "cell_type": "code",
   "execution_count": null,
   "id": "4560f275-6cdc-4b7a-84f6-d30588718eac",
   "metadata": {},
   "outputs": [],
   "source": [
    "#cc = flp2fixTensor(S2None(c),args.full_bits,args.frac_bits)"
   ]
  },
  {
   "cell_type": "code",
   "execution_count": null,
   "id": "3f1e2731-44bd-437a-918b-a9524e53be2f",
   "metadata": {},
   "outputs": [],
   "source": [
    "print(aSF,wSF)"
   ]
  },
  {
   "cell_type": "code",
   "execution_count": null,
   "id": "41fa3c69-fc0c-4b1a-bbfd-1b76295ec919",
   "metadata": {},
   "outputs": [],
   "source": [
    "for i in range(100):\n",
    "    for j in range(150):\n",
    "        print(f'act value is            : {act_f[i][j]:^25}(bin : {flp2fix(act[i][j],args.full_bits,args.frac_bits).bFull:^8}) --> {a[i][j]}')\n",
    "        print(f'wei value is            : {wei_f[i][j]:^25}(bin : {flp2fix(wei[i][j],args.full_bits,args.frac_bits).bFull:^8}) --> {w[i][j]}')\n",
    "        print(f'stochastic mul value is : {cc[i][j]:^25}(bin : {flp2fix(cc[i][j],args.full_bits,args.frac_bits).bFull:^8}) --> {c[i][j]}')\n",
    "        print(f'fixed mul value is      : {act_f[i][j]*wei_f[i][j]:^25}(bin : {flp2fix(act[i][j]*wei[i][j],args.full_bits,args.frac_bits).bFull:^8}) --> {N2Sone(act[i][j]*wei[i][j],aSF*wSF)}')\n",
    "        print(f'------------------------------------------------------------------------------------------')"
   ]
  },
  {
   "cell_type": "code",
   "execution_count": null,
   "id": "e3c379ad-86ae-405b-bad5-0a80da08c1da",
   "metadata": {},
   "outputs": [],
   "source": [
    "def MSE(a,b):\n",
    "    s = 0\n",
    "    n = 0\n",
    "\n",
    "    for i in range(100):\n",
    "        for j in range(150):\n",
    "            square = (((a[i][j])-b[i][j])**2).item()\n",
    "            s += square\n",
    "            n += 1\n",
    "    error = s/n\n",
    "    return error"
   ]
  },
  {
   "cell_type": "markdown",
   "id": "c59ed2f4-fe09-4b32-ad46-94489ca4a0a5",
   "metadata": {},
   "source": [
    "## ERROR : 8bit LFSR"
   ]
  },
  {
   "cell_type": "code",
   "execution_count": null,
   "id": "2cd0333b-42fd-4190-aa51-d463a5adcf2c",
   "metadata": {},
   "outputs": [],
   "source": [
    "MSE(act_f*wei_f,cc)"
   ]
  },
  {
   "cell_type": "code",
   "execution_count": null,
   "id": "d6827091-fd3a-4b19-a77e-b1798841f733",
   "metadata": {},
   "outputs": [],
   "source": []
  }
 ],
 "metadata": {
  "kernelspec": {
   "display_name": "Python 3",
   "language": "python",
   "name": "python3"
  },
  "language_info": {
   "codemirror_mode": {
    "name": "ipython",
    "version": 3
   },
   "file_extension": ".py",
   "mimetype": "text/x-python",
   "name": "python",
   "nbconvert_exporter": "python",
   "pygments_lexer": "ipython3",
   "version": "3.6.9"
  }
 },
 "nbformat": 4,
 "nbformat_minor": 5
}

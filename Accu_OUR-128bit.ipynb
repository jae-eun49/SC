{
 "cells": [
  {
   "cell_type": "code",
   "execution_count": 1,
   "id": "5603d1ca-c47e-4b67-9d4e-33d04c711af8",
   "metadata": {},
   "outputs": [],
   "source": [
    "import argparse\n",
    "import tqdm\n",
    "from tqdm import tqdm_notebook as tq\n",
    "import os, time, math, copy, random\n",
    "import torch\n",
    "import torch.nn as nn\n",
    "import torch.optim as optim\n",
    "from torch.autograd import Variable\n",
    "from collections import namedtuple\n",
    "\n",
    "torch.set_printoptions(precision=8, linewidth=50000)\n",
    "import warnings\n",
    "warnings.filterwarnings(action='ignore')"
   ]
  },
  {
   "cell_type": "code",
   "execution_count": 2,
   "id": "0c5a6609-2313-4b8b-8083-cfae1660229b",
   "metadata": {},
   "outputs": [],
   "source": [
    "BLACK\t= '\\033[30m'\n",
    "RED\t\t= '\\033[31m'\n",
    "GREEN\t= '\\033[32m'\n",
    "YELLOW\t= '\\033[33m'\n",
    "BLUE\t= '\\033[34m'\n",
    "MAGENTA\t= '\\033[35m'\n",
    "CYAN\t= '\\033[36m'\n",
    "RESET\t= '\\033[0m'\n",
    "SEL\t\t= '\\033[7m'"
   ]
  },
  {
   "cell_type": "code",
   "execution_count": 3,
   "id": "d2f93080-4c30-411b-a48d-cb00b2be7c5c",
   "metadata": {},
   "outputs": [],
   "source": [
    "parser = argparse.ArgumentParser(description='fixed_mac')\n",
    "parser.add_argument('--device', type=str, default='cpu', help='Device')\n",
    "parser.add_argument('--full_bits', type=int, default=8, help='Number of Quantization Bits') # full bits\n",
    "parser.add_argument('--frac_bits', type=int, default=3, help='Number of Quantization Bits') # fraction bits\n",
    "parser.add_argument('--bBW', type=int, default=4, help='Number of bitwidth')\n",
    "args = parser.parse_args(args=[])"
   ]
  },
  {
   "cell_type": "code",
   "execution_count": 4,
   "id": "282d0fd1-44b3-4ca5-87f8-85646a26346a",
   "metadata": {},
   "outputs": [],
   "source": [
    "class\tfxp:\n",
    "\tdef\t__init__(self, bIn, iBWF):\n",
    "\t\tself.iFullBW\t= len(bIn)\n",
    "\t\tself.iIntgBW\t= self.iFullBW - iBWF\n",
    "\t\tself.bSign\t\t= bIn[0]\n",
    "\t\tself.bIntg\t\t= bIn[:self.iIntgBW]\n",
    "\t\tself.bFrac\t\t= bIn[self.iIntgBW:]\n",
    "\t\tself.fFull\t\t= 0\n",
    "\t\ttry:\n",
    "\t\t\tfor idx, bit in enumerate(bIn):\n",
    "\t\t\t\tif\tidx == 0:\n",
    "\t\t\t\t\tself.fFull = self.fFull + int(bit,2) * -pow(2, self.iIntgBW - 1)\n",
    "\t\t\t\telse:\n",
    "\t\t\t\t\tself.fFull = self.fFull + int(bit,2) * pow(2, self.iIntgBW - 1 - idx)\n",
    "\t\texcept:\n",
    "\t\t\tprint(bIn)\n",
    "\t\tself.dispFull\t= RED + self.bIntg + BLUE + self.bFrac + RESET\n",
    "\t\treturn"
   ]
  },
  {
   "cell_type": "code",
   "execution_count": 5,
   "id": "4397d1d1-a78e-41dc-bf87-2e29be0bba4f",
   "metadata": {},
   "outputs": [],
   "source": [
    "class\tflp2fix:\n",
    "\tdef\t__init__(self, fIn, iBW, iBWF):\n",
    "\t\tself.fMin\t\t= - 2 ** (iBW - iBWF - 1)\n",
    "\t\tself.fMax\t\t= (2 ** (iBW-1) - 1) * (2 ** -iBWF)\n",
    "\t\tself.fResol\t\t= 2 ** -iBWF\n",
    "\t\tif fIn < self.fMin or fIn > self.fMax:\n",
    "\t\t\tprint(f'({fIn}): Out of input range ({self.fMax}/{self.fMin}) during flp -> fix converting ')\n",
    "\t\tself.iBW\t\t= iBW\n",
    "\t\tself.iBWI\t\t= iBW - iBWF # integer\n",
    "\t\tself.iBWF\t\t= iBWF # fraction\n",
    "\n",
    "\t\tself.iFLP2INT\t= abs(int(fIn * 2 ** iBWF))\n",
    "\t\tif fIn < 0:\n",
    "\t\t\tself.iFLP2INT = 2 ** (iBW-1) - self.iFLP2INT\n",
    "\n",
    "\t\tif fIn >= 0:\n",
    "\t\t\tself.bFull = bin(self.iFLP2INT)[2:].rjust(iBW, '0')\n",
    "\t\telse:\n",
    "\t\t\tself.bFull = '1'+bin(self.iFLP2INT)[2:].rjust(iBW-1, '0')\n",
    "\t\t\tif len(self.bFull) > iBW:\n",
    "\t\t\t\tself.bFull = '0' * iBW\n",
    "\n",
    "\t\tself.cssFxp\t\t= fxp(self.bFull, self.iBWF)\n",
    "\t\tself.bSign\t\t= self.cssFxp.bSign\n",
    "\t\tself.bIntg\t\t= self.cssFxp.bIntg\n",
    "\t\tself.bFrac\t\t= self.cssFxp.bFrac\n",
    "\t\tself.fFull\t\t= self.cssFxp.fFull\n",
    "\t\treturn"
   ]
  },
  {
   "cell_type": "code",
   "execution_count": 6,
   "id": "2d7a044b-ab2c-4a1c-a034-0e3e3f2428fd",
   "metadata": {},
   "outputs": [
    {
     "name": "stdout",
     "output_type": "stream",
     "text": [
      "-10.57596997113258\n",
      "00101000 10101100\n",
      "22.25\n"
     ]
    }
   ],
   "source": [
    "iIN = random.uniform(-(2**(args.bBW)),0)\n",
    "iA = flp2fix(5, args.full_bits, args.frac_bits).bFull\n",
    "ibA = flp2fix(iIN, args.full_bits, args.frac_bits).bFull\n",
    "print(iIN)\n",
    "print(iA, ibA)\n",
    "iB = fxp('010110010', args.frac_bits).fFull\n",
    "print(iB)"
   ]
  },
  {
   "cell_type": "markdown",
   "id": "bf6de7f9-29a8-4238-9f59-b4e7220130d5",
   "metadata": {},
   "source": [
    "## Integer -> Tow's complement Binary"
   ]
  },
  {
   "cell_type": "code",
   "execution_count": 7,
   "id": "04547c0c-9e35-4abf-9ff8-0ef77e7b357d",
   "metadata": {},
   "outputs": [],
   "source": [
    "def int2bin(iIn, iBW): # iBW : bit length = 16\n",
    "    iBW\t\t= iBW + 1\n",
    "    if iIn >= 0:\n",
    "\t    bOut\t= bin(iIn).replace('0b','').rjust(iBW, '0')\n",
    "    else:\n",
    "\t    bOut\t= bin(iIn & (pow(2,iBW)-1)).replace('0b','').rjust(iBW, '1')\n",
    "    return bOut[1:] # magnitude : go into the comparator and compare with LFSR's output"
   ]
  },
  {
   "cell_type": "code",
   "execution_count": 8,
   "id": "13e177c7-c1f0-4a1a-8b85-2a7c99e37e7a",
   "metadata": {},
   "outputs": [
    {
     "data": {
      "text/plain": [
       "'1011'"
      ]
     },
     "execution_count": 8,
     "metadata": {},
     "output_type": "execute_result"
    }
   ],
   "source": [
    "int2bin(-5,4)"
   ]
  },
  {
   "cell_type": "markdown",
   "id": "828d501b-8840-4fa9-8778-10a986ee6031",
   "metadata": {},
   "source": [
    "## XOR"
   ]
  },
  {
   "cell_type": "code",
   "execution_count": 9,
   "id": "52226d00-1a13-4be7-b2f1-f26fcc3073f9",
   "metadata": {},
   "outputs": [],
   "source": [
    "def XOR(iA, iB):\n",
    "\tif iA != iB:\n",
    "\t\toOUT = '1'\n",
    "\telse:\n",
    "\t\toOUT = '0'\n",
    "\treturn oOUT"
   ]
  },
  {
   "cell_type": "markdown",
   "id": "650d616b-fe0a-4f47-91f4-e3643e608746",
   "metadata": {},
   "source": [
    "## LFSR"
   ]
  },
  {
   "cell_type": "code",
   "execution_count": 10,
   "id": "1dde8923-51f9-4b29-bcf7-5aeedd7baa43",
   "metadata": {},
   "outputs": [],
   "source": [
    "def LFSR(seed, flag, taps):\n",
    "    sr, xor = seed, 0\n",
    "    for t in taps:\n",
    "        xor += int(sr[t-1])\n",
    "    if xor%2 == 0.0:\n",
    "        xor = 0\n",
    "    else:\n",
    "        xor = 1\n",
    "    sr, xor = str(xor) + sr[:-1], 0\n",
    "    if sr == flag[0]:\n",
    "        return len(seed)*'0'\n",
    "    else:\n",
    "        return sr"
   ]
  },
  {
   "cell_type": "markdown",
   "id": "3896d8c1-cd0a-4f00-ab11-d8a18d207a7b",
   "metadata": {},
   "source": [
    "## Comparator"
   ]
  },
  {
   "cell_type": "code",
   "execution_count": 11,
   "id": "b6500710-9e74-459e-9ad1-1d116a1a3f0a",
   "metadata": {},
   "outputs": [],
   "source": [
    "def COMP(iA, l_lfsr):\n",
    "    for comp in range(0, len(l_lfsr)): #lfsrlist : 16개의 elements -> len = 16\n",
    "        oA = '0'\n",
    "        if abs(iA) > int(l_lfsr[comp],2):\n",
    "            oA = '1'\n",
    "        elif abs(iA) < int(l_lfsr[comp],2):\n",
    "            oA = '0'\n",
    "            \n",
    "    return oA"
   ]
  },
  {
   "cell_type": "markdown",
   "id": "bbacfaca-517d-4fe4-b828-df24125e840f",
   "metadata": {},
   "source": [
    "## SNG_Conventional"
   ]
  },
  {
   "cell_type": "code",
   "execution_count": 12,
   "id": "3934ad2e-a4df-4a10-9edb-40f2c709401c",
   "metadata": {},
   "outputs": [],
   "source": [
    "def SNG(bBW, iA): # bBW = 8\n",
    "\n",
    "    cA = int2bin(iA, bBW)\n",
    "    s_cA = cA[0]    \n",
    "    oAlist = []\n",
    "    l_lfsr = []\n",
    "    ran = random.randint(1, pow(2,bBW-1)-1)\n",
    "    ranZP = bBW-1-len(bin(ran).replace('0b',''))\n",
    "    num = ranZP*'0'+bin(ran).replace('0b','')\n",
    "    \n",
    "    for lfsr in range (0, (2**(bBW-1))):\n",
    "        if not l_lfsr:\n",
    "            l_lfsr.append(num)\n",
    "        else:\n",
    "            l_lfsr.append(LFSR(l_lfsr[lfsr-1], l_lfsr, (7,6)))\n",
    "            \n",
    "        oAlist.append(COMP(iA, l_lfsr))\n",
    "        \n",
    "    Onum = oAlist.count('1')\n",
    "    oAlist.insert(0, s_cA)\n",
    "    sA = ''.join(oAlist)\n",
    "#    print(l_lfsr)\n",
    "        \n",
    "    return sA"
   ]
  },
  {
   "cell_type": "code",
   "execution_count": 13,
   "id": "b41c59c7-5cbb-401e-9918-d16da25978c6",
   "metadata": {},
   "outputs": [
    {
     "data": {
      "text/plain": [
       "129"
      ]
     },
     "execution_count": 13,
     "metadata": {},
     "output_type": "execute_result"
    }
   ],
   "source": [
    "len(SNG(8,25))"
   ]
  },
  {
   "cell_type": "markdown",
   "id": "081a3103-739c-46e2-afd8-24715ec2ce5f",
   "metadata": {},
   "source": [
    "## Inter-Blocks: Output Revision(OUR) Scheme"
   ]
  },
  {
   "cell_type": "code",
   "execution_count": 14,
   "id": "fd5b59de-d5ef-424f-b722-427fc761fca9",
   "metadata": {},
   "outputs": [],
   "source": [
    "def pos(SN):\n",
    "    return SN[0] == '0'\n",
    "def neg(SN):\n",
    "    return SN[0] == '1'\n",
    "def counter(x):\n",
    "    return x.count('1')"
   ]
  },
  {
   "cell_type": "code",
   "execution_count": 15,
   "id": "e9acf281-5aff-4f3a-960d-dbd8333dde7e",
   "metadata": {},
   "outputs": [],
   "source": [
    "def gen_acclist(bBW, IN):\n",
    "    A_list=[]\n",
    "    acc_A=0\n",
    "    acc_Alist=[]\n",
    "    for i in range(0,2**(bBW-1)):\n",
    "        A = 0\n",
    "        for k in range(len(IN)):\n",
    "            if IN[k][i] == '1':\n",
    "                A += 1\n",
    "        A_list.append(A)\n",
    "        acc_A += A_list[i]\n",
    "        acc_Alist.append(acc_A)     \n",
    "    \n",
    "    return acc_Alist"
   ]
  },
  {
   "cell_type": "code",
   "execution_count": 16,
   "id": "4eb466a4-3b5f-4903-9429-68888c261d3e",
   "metadata": {},
   "outputs": [],
   "source": [
    "def gen_So(bBW, diff):\n",
    "    So_list=[]\n",
    "    Ao_list=[]\n",
    "    global So\n",
    "    for o in range(2**(bBW-1)):\n",
    "        if o == 0:\n",
    "            Ao = 0 # first A_o is fixed\n",
    "            if diff[o] > 0:\n",
    "                So = 1\n",
    "            else:\n",
    "                So = 0\n",
    "            Ao_list.append(Ao)\n",
    "            So_list.append(So)\n",
    "        else:\n",
    "            Ao += So_list[o-1]\n",
    "            Ao_list.append(Ao)\n",
    "            if diff[o] > Ao_list[o]:\n",
    "                So = 1\n",
    "            elif diff[o] <= Ao_list[o]:\n",
    "                So = 0\n",
    "            So_list.append(So)\n",
    "    \n",
    "    return So_list"
   ]
  },
  {
   "cell_type": "code",
   "execution_count": 17,
   "id": "dacbbb61-91ab-4e9d-8f32-1cdc7b065888",
   "metadata": {},
   "outputs": [],
   "source": [
    "def block(IN):\n",
    "    BLOCK1=[]\n",
    "    BLOCK2=[]\n",
    "    BLOCK3=[]\n",
    "    BLOCK4=[]\n",
    "    BLOCK5=[]\n",
    "    BLOCK6=[]\n",
    "    BLOCK7=[]\n",
    "    BLOCK8=[]\n",
    "    for i in range(len(IN)):\n",
    "        block1 = IN[i][1:17]\n",
    "        block2 = IN[i][17:33]\n",
    "        block3 = IN[i][33:49]\n",
    "        block4 = IN[i][49:65]\n",
    "        block5 = IN[i][65:81]\n",
    "        block6 = IN[i][81:97]\n",
    "        block7 = IN[i][97:113]\n",
    "        block8 = IN[i][113:]\n",
    "        BLOCK1.append(block1)\n",
    "        BLOCK2.append(block2)\n",
    "        BLOCK3.append(block3)\n",
    "        BLOCK4.append(block4)\n",
    "        BLOCK5.append(block5)\n",
    "        BLOCK6.append(block6)\n",
    "        BLOCK7.append(block7)\n",
    "        BLOCK8.append(block8)\n",
    "    return BLOCK1, BLOCK2, BLOCK3, BLOCK4, BLOCK5, BLOCK6, BLOCK7, BLOCK8"
   ]
  },
  {
   "cell_type": "code",
   "execution_count": 69,
   "id": "c03769bf-67ea-4f51-b015-f5cb3d61ddce",
   "metadata": {},
   "outputs": [],
   "source": [
    "def OUR(cnt, bBW): # bBW = 8\n",
    "    global diff1, diff2, diff3, diff4, diff5, diff6, diff7, diff8, sign\n",
    "    gen_SN = []\n",
    "#    output = []\n",
    "    for i in range(0, 2**cnt):\n",
    "        iA = random.randint(-64,63)\n",
    "        SN = SNG(bBW,iA) \n",
    "        gen_SN.append(SN)\n",
    "  \n",
    "    # sorting random input bit-stream(positive/negative)\n",
    "    pos_IN = list(filter(pos, gen_SN))\n",
    "    neg_IN = list(filter(neg, gen_SN))\n",
    "\n",
    "    # Block devision\n",
    "    pBLOCK1, pBLOCK2, pBLOCK3, pBLOCK4, pBLOCK5, pBLOCK6, pBLOCK7, pBLOCK8 = block(pos_IN)\n",
    "    nBLOCK1, nBLOCK2, nBLOCK3, nBLOCK4, nBLOCK5, nBLOCK6, nBLOCK7, nBLOCK8 = block(neg_IN)\n",
    "\n",
    "    # generate list of number of accumulated 1s\n",
    "    Ap1_list = gen_acclist(bBW-3, pBLOCK1)\n",
    "    An1_list = gen_acclist(bBW-3, nBLOCK1)\n",
    "    Ap2_list = gen_acclist(bBW-3, pBLOCK2)\n",
    "    An2_list = gen_acclist(bBW-3, nBLOCK2)\n",
    "    Ap3_list = gen_acclist(bBW-3, pBLOCK3)\n",
    "    An3_list = gen_acclist(bBW-3, nBLOCK3)\n",
    "    Ap4_list = gen_acclist(bBW-3, pBLOCK4)\n",
    "    An4_list = gen_acclist(bBW-3, nBLOCK4)\n",
    "    Ap5_list = gen_acclist(bBW-3, pBLOCK5)\n",
    "    An5_list = gen_acclist(bBW-3, nBLOCK5)\n",
    "    Ap6_list = gen_acclist(bBW-3, pBLOCK6)\n",
    "    An6_list = gen_acclist(bBW-3, nBLOCK6)\n",
    "    Ap7_list = gen_acclist(bBW-3, pBLOCK7)\n",
    "    An7_list = gen_acclist(bBW-3, nBLOCK7)\n",
    "    Ap8_list = gen_acclist(bBW-3, pBLOCK8)\n",
    "    An8_list = gen_acclist(bBW-3, nBLOCK8)\n",
    "\n",
    "    # determine sign of output\n",
    "    if Ap1_list[-1]+Ap2_list[-1]+Ap3_list[-1]+Ap4_list[-1] > An1_list[-1]+An2_list[-1]+An3_list[-1]+An4_list[-1]:\n",
    "        diff1 = [x-y for x,y in zip(Ap1_list, An1_list)]\n",
    "        diff2 = [x-y for x,y in zip(Ap2_list, An2_list)]\n",
    "        diff3 = [x-y for x,y in zip(Ap3_list, An3_list)]\n",
    "        diff4 = [x-y for x,y in zip(Ap4_list, An4_list)]\n",
    "        diff5 = [x-y for x,y in zip(Ap5_list, An5_list)]\n",
    "        diff6 = [x-y for x,y in zip(Ap6_list, An6_list)]\n",
    "        diff7 = [x-y for x,y in zip(Ap7_list, An7_list)]\n",
    "        diff8 = [x-y for x,y in zip(Ap8_list, An8_list)]\n",
    "        sign  = ['0']        \n",
    "    elif Ap1_list[-1]+Ap2_list[-1]+Ap3_list[-1]+Ap4_list[-1] < An1_list[-1]+An2_list[-1]+An3_list[-1]+An4_list[-1]:\n",
    "        diff1 = [x-y for x,y in zip(An1_list, Ap1_list)]\n",
    "        diff2 = [x-y for x,y in zip(An2_list, Ap2_list)]\n",
    "        diff3 = [x-y for x,y in zip(An3_list, Ap3_list)]\n",
    "        diff4 = [x-y for x,y in zip(An4_list, Ap4_list)]\n",
    "        diff5 = [x-y for x,y in zip(An5_list, Ap5_list)]\n",
    "        diff6 = [x-y for x,y in zip(An6_list, Ap6_list)]\n",
    "        diff7 = [x-y for x,y in zip(An7_list, Ap7_list)]\n",
    "        diff8 = [x-y for x,y in zip(An8_list, Ap8_list)]\n",
    "        sign  = ['1']\n",
    "    \n",
    "    So1 = gen_So(bBW-3, diff1)\n",
    "    So2 = gen_So(bBW-3, diff2)\n",
    "    So3 = gen_So(bBW-3, diff3)\n",
    "    So4 = gen_So(bBW-3, diff4)\n",
    "    So5 = gen_So(bBW-3, diff5)\n",
    "    So6 = gen_So(bBW-3, diff6)\n",
    "    So7 = gen_So(bBW-3, diff7)\n",
    "    So8 = gen_So(bBW-3, diff8)\n",
    "    So_list = So1 + So2 + So3 + So4 + So5 + So6 + So7 + So8\n",
    "\n",
    "    result = list(map(str, So_list))\n",
    "    tempout = ''.join(result)\n",
    "\n",
    "    p = abs((Ap1_list[-1]+Ap2_list[-1]+Ap3_list[-1]+Ap4_list[-1]+Ap5_list[-1]+Ap6_list[-1]+Ap7_list[-1]+Ap8_list[-1])-(An1_list[-1]+An2_list[-1]+An3_list[-1]+An4_list[-1]+An5_list[-1]+An6_list[-1]+An7_list[-1]+An8_list[-1]))\n",
    "    q = counter(tempout)\n",
    "\n",
    "    p_list=[]\n",
    "    q_list=[counter(tempout)]\n",
    "    out=[]\n",
    "    for k in range(2**(bBW-1)):\n",
    "        p_list.append(p)\n",
    "        if q < p:\n",
    "            q += 1\n",
    "            out.append('1')\n",
    "        elif q > p:\n",
    "            q -= 1\n",
    "            out.append('0')\n",
    "        else:\n",
    "            q = p\n",
    "            out.append(tempout[k])\n",
    "        q_list.append(q)\n",
    "    sout = sign + out\n",
    "    output = ''.join(sout)\n",
    "    \n",
    "    print(\"===========================================\")\n",
    "    print(\" Index : %s\"%(i+1))\n",
    "    print(\"-------------------------------------------\")\n",
    "    print(\"real output: {0}/{1}\".format((Ap1_list[-1]+Ap2_list[-1]+Ap3_list[-1]+Ap4_list[-1]+Ap5_list[-1]+Ap6_list[-1]+Ap7_list[-1]+Ap8_list[-1])-(An1_list[-1]+An2_list[-1]+An3_list[-1]+An4_list[-1]+An5_list[-1]+An6_list[-1]+An7_list[-1]+An8_list[-1]),128))\n",
    "    print(\"cal output : {0}/{1}\".format(counter(output[1:]),128))\n",
    "    print('positive input = {0}'.format(pos_IN), len(pos_IN[0]))\n",
    "    print('negative input = {0}'.format(neg_IN), len(neg_IN[0]))\n",
    "    print('pBLOCK1 = {0}'.format(pBLOCK1))\n",
    "    print('nBLOCK1 = {0}'.format(nBLOCK1))\n",
    "    print(Ap1_list, An1_list)\n",
    "    print('pBLOCK2 = {0}'.format(pBLOCK2))\n",
    "    print('nBLOCK2 = {0}'.format(nBLOCK2))\n",
    "    print(Ap2_list, An2_list)\n",
    "    print('pBLOCK3 = {0}'.format(pBLOCK3))\n",
    "    print('nBLOCK3 = {0}'.format(nBLOCK3))\n",
    "    print(Ap3_list, An3_list)\n",
    "    print('pBLOCK4 = {0}'.format(pBLOCK4))\n",
    "    print('nBLOCK4 = {0}'.format(nBLOCK4))\n",
    "    print(Ap4_list, An4_list)\n",
    "    print('pBLOCK5 = {0}'.format(pBLOCK5))\n",
    "    print('nBLOCK5 = {0}'.format(nBLOCK5))\n",
    "    print(Ap5_list, An5_list)\n",
    "    print('pBLOCK6 = {0}'.format(pBLOCK6))\n",
    "    print('nBLOCK6 = {0}'.format(nBLOCK6))\n",
    "    print(Ap6_list, An6_list)\n",
    "    print('pBLOCK7 = {0}'.format(pBLOCK7))\n",
    "    print('nBLOCK7 = {0}'.format(nBLOCK7))\n",
    "    print(Ap7_list, An7_list)\n",
    "    print('pBLOCK8 = {0}'.format(pBLOCK8))\n",
    "    print('nBLOCK8 = {0}'.format(nBLOCK8))\n",
    "    print(Ap8_list, An8_list)\n",
    "    print(So1, So2, So3, So4)\n",
    "    print(tempout)\n",
    "    print(p_list)\n",
    "    print(q_list)\n",
    "    print(output)\n",
    "    print(\"===========================================\")\n",
    "\n",
    "    return output, counter(output[1:]), p"
   ]
  },
  {
   "cell_type": "code",
   "execution_count": 76,
   "id": "5f3fd9d1-6503-4e7e-bb67-fe3fa27927dd",
   "metadata": {},
   "outputs": [
    {
     "name": "stdout",
     "output_type": "stream",
     "text": [
      "===========================================\n",
      " Index : 8\n",
      "-------------------------------------------\n",
      "real output: -61/128\n",
      "cal output : 61/128\n",
      "positive input = ['010100000000111110111110011110101110000110111010011000101011000000011110001110110110010010100100001001110010110100010001100110101', '001100100101001000000001100101101000000001001101010100000000111110111110011110101110000010111010011000001011000000011110000110111', '000000000000000000000000000000000000000000000000000000000000000000000000000000000000010000000000000000000000000000000000000000001'] 129\n",
      "negative input = ['100000000000000000000000000000000000000000000000000000000000000000000000000100000000000000000000000000000000000000000000000000001', '100000000000000000000000000000000000000000000000000000000000000000000000000000000000000000000010000010000000000000000000000000001', '100011111011111001111010111000011011101001100010101100000101111000111011011001001010010000100111001011010001000110011010101000001', '111011001000010000000000011001011010000000010001010101000000001111101111100111101011100000101110100010000010110000000111100001101', '110010110100010001100110101010000000011111011111001111010111000011011101001100010101100000001111000111011011001001010010000000111'] 129\n",
      "pBLOCK1 = ['1010000000011111', '0110010010100100', '0000000000000000']\n",
      "nBLOCK1 = ['0000000000000000', '0000000000000000', '0001111101111100', '1101100100001000', '1001011010001000']\n",
      "[1, 2, 4, 4, 4, 5, 5, 5, 6, 6, 7, 8, 9, 11, 12, 13] [2, 3, 3, 6, 8, 10, 12, 14, 15, 16, 17, 18, 21, 22, 22, 22]\n",
      "pBLOCK2 = ['0111110011110101', '0000001100101101', '0000000000000000']\n",
      "nBLOCK2 = ['0000000000000000', '0000000000000000', '1111010111000011', '0000000011001011', '1100110101010000']\n",
      "[0, 1, 2, 3, 4, 5, 6, 7, 8, 9, 11, 12, 13, 15, 15, 17] [2, 4, 5, 6, 7, 9, 9, 11, 13, 16, 16, 17, 18, 18, 20, 22]\n",
      "pBLOCK3 = ['1100001101110100', '0000000010011010', '0000000000000000']\n",
      "nBLOCK3 = ['0000000000000000', '0000000000000000', '0111010011000101', '0100000000100010', '0000111110111110']\n",
      "[1, 2, 2, 2, 2, 2, 3, 4, 5, 6, 7, 9, 10, 11, 12, 12] [0, 2, 3, 4, 5, 7, 8, 9, 11, 12, 14, 15, 16, 18, 20, 21]\n",
      "pBLOCK4 = ['1100010101100000', '1010000000011111', '0000000000000000']\n",
      "nBLOCK4 = ['0000000000000000', '0000000000000000', '0110000010111100', '1010100000000111', '0111101011100001']\n",
      "[2, 3, 4, 4, 4, 5, 5, 6, 6, 7, 8, 9, 10, 11, 12, 13] [1, 3, 6, 7, 9, 9, 10, 10, 12, 13, 15, 16, 17, 19, 20, 22]\n",
      "pBLOCK5 = ['0011110001110110', '0111110011110101', '0000000000000000']\n",
      "nBLOCK5 = ['0000000000100000', '0000000000000000', '0111011011001001', '1101111100111101', '1011101001100010']\n",
      "[0, 1, 3, 5, 7, 9, 9, 9, 10, 12, 14, 16, 16, 18, 19, 20] [2, 4, 6, 9, 11, 13, 16, 17, 18, 20, 23, 24, 26, 27, 28, 30]\n",
      "pBLOCK6 = ['1100100101001000', '1100000101110100', '0000100000000000']\n",
      "nBLOCK6 = ['0000000000000000', '0000000000000100', '0100100001001110', '0111000001011101', '1011000000011110']\n",
      "[2, 4, 4, 4, 6, 6, 6, 8, 8, 10, 11, 12, 13, 14, 14, 14] [1, 3, 5, 7, 8, 8, 8, 8, 8, 10, 10, 12, 15, 19, 21, 22]\n",
      "pBLOCK7 = ['0100111001011010', '1100000101100000', '0000000000000000']\n",
      "nBLOCK7 = ['0000000000000000', '0001000000000000', '0101101000100011', '0001000001011000', '0011101101100100']\n",
      "[1, 3, 3, 3, 4, 5, 6, 7, 7, 9, 10, 11, 12, 12, 13, 13] [0, 1, 2, 6, 8, 8, 10, 11, 11, 13, 15, 16, 17, 18, 19, 20]\n",
      "pBLOCK8 = ['0010001100110101', '0011110000110111', '0000000000000001']\n",
      "nBLOCK8 = ['0000000000000001', '0000000000000001', '0011010101000001', '0000111100001101', '1010010000000111']\n",
      "[0, 0, 2, 3, 4, 5, 6, 7, 7, 7, 9, 11, 11, 13, 14, 17] [1, 1, 3, 4, 5, 8, 9, 11, 11, 12, 12, 12, 13, 15, 16, 21]\n",
      "[1, 0, 0, 1, 1, 1, 1, 1, 1, 1, 1, 1, 1, 0, 0, 0] [1, 1, 1, 0, 0, 1, 0, 0, 1, 1, 0, 0, 0, 0, 0, 0] [0, 0, 1, 1, 1, 1, 1, 0, 1, 0, 1, 0, 0, 0, 1, 1] [0, 0, 1, 1, 1, 1, 1, 0, 1, 0, 1, 0, 0, 1, 0, 1]\n",
      "10011111111110001110010011000000001111101010001100111110101001011111001111101000001100000000011100011110001001011000011101000000\n",
      "[61, 61, 61, 61, 61, 61, 61, 61, 61, 61, 61, 61, 61, 61, 61, 61, 61, 61, 61, 61, 61, 61, 61, 61, 61, 61, 61, 61, 61, 61, 61, 61, 61, 61, 61, 61, 61, 61, 61, 61, 61, 61, 61, 61, 61, 61, 61, 61, 61, 61, 61, 61, 61, 61, 61, 61, 61, 61, 61, 61, 61, 61, 61, 61, 61, 61, 61, 61, 61, 61, 61, 61, 61, 61, 61, 61, 61, 61, 61, 61, 61, 61, 61, 61, 61, 61, 61, 61, 61, 61, 61, 61, 61, 61, 61, 61, 61, 61, 61, 61, 61, 61, 61, 61, 61, 61, 61, 61, 61, 61, 61, 61, 61, 61, 61, 61, 61, 61, 61, 61, 61, 61, 61, 61, 61, 61, 61, 61]\n",
      "[62, 61, 61, 61, 61, 61, 61, 61, 61, 61, 61, 61, 61, 61, 61, 61, 61, 61, 61, 61, 61, 61, 61, 61, 61, 61, 61, 61, 61, 61, 61, 61, 61, 61, 61, 61, 61, 61, 61, 61, 61, 61, 61, 61, 61, 61, 61, 61, 61, 61, 61, 61, 61, 61, 61, 61, 61, 61, 61, 61, 61, 61, 61, 61, 61, 61, 61, 61, 61, 61, 61, 61, 61, 61, 61, 61, 61, 61, 61, 61, 61, 61, 61, 61, 61, 61, 61, 61, 61, 61, 61, 61, 61, 61, 61, 61, 61, 61, 61, 61, 61, 61, 61, 61, 61, 61, 61, 61, 61, 61, 61, 61, 61, 61, 61, 61, 61, 61, 61, 61, 61, 61, 61, 61, 61, 61, 61, 61, 61]\n",
      "100011111111110001110010011000000001111101010001100111110101001011111001111101000001100000000011100011110001001011000011101000000\n",
      "===========================================\n"
     ]
    },
    {
     "data": {
      "text/plain": [
       "('100011111111110001110010011000000001111101010001100111110101001011111001111101000001100000000011100011110001001011000011101000000',\n",
       " 61,\n",
       " 61)"
      ]
     },
     "execution_count": 76,
     "metadata": {},
     "output_type": "execute_result"
    }
   ],
   "source": [
    "OUR(3,8)"
   ]
  },
  {
   "cell_type": "code",
   "execution_count": 20,
   "id": "e0773ac6-4cfe-4c39-a299-71aec22fd0df",
   "metadata": {},
   "outputs": [
    {
     "name": "stdout",
     "output_type": "stream",
     "text": [
      "===========================================\n",
      " Index : 16\n",
      "-------------------------------------------\n",
      "real output: -47/128\n",
      "cal output : 94/128\n",
      "positive input = ['000000000001100000100000000000000000000000000100000000000000000000000000000000000011110011110000110000010000000001000000000000001', '000000000000011000011000000000000000000000000000000000000000000000000000000000000000000000000000000000000000000000000000000000001', '000000000000001100000100000000001000100000000000000111110111110001110100110000010011010001000000001000000001110000110110110000001', '011101001100010101100000001111000111011011001001010010000000111001011010001000110011010101000000001111101111100111101011100001101', '001000101000000000000111110111110001110101110000010111010001000000001000000001110000110110110000000000000000000110000010100000001', '001100100101001000000011100101101000000001001101010100000000111110111110011110101110000010111010011000001011000000011110001110111', '000000000011110001110000110000010000000001000000000000000000000000110000010000000000000000000000000010000000000000000000000000001']\n",
      "negative input = ['100000000000000000000000000000000000000000000000000000000000000000000000000000000000000000000010000000000000000000000000000000001', '100000010000000000011001011010000000010001010101000000001111101111100111101011100000101110100010000010110000000111100001101101101', '110110110010010100100000001110010110100010000100110101010000000011111011111001111010111000001011101001100010101100000001111000111', '100000000000000000000000000000000010000000000000000000000000000000000000000000000000000000000000000000000011000011000000000000001', '100100000000100000000111000011011011000000000000000000011000001010000000010001010000000000001111101111100011101001100000101110101', '101011000000011110000110110110010010100100000001110010110100000000100110101010000000011111011111001111010111000001011101001100001', '100000100010101000000000011111011111000111010111000001011101000100000000100000000111000011011011000000000000000000011000001010001', '100011111011111000111010111000001011101000100000001100000000111000011011011000000000000000000011000001010000000010001010101000001', '101000001011000000011110000110110110000000100000000000110000110100000000100010101010000000011111011111001111010111000001011101001']\n",
      "pBLOCK1 = ['0000000000110000', '0000000000001100', '0000000000000110', '1110100110001010', '0100010100000000', '0110010010100100', '0000000001111000']\n",
      "nBLOCK1 = ['0000000000000000', '0000001000000000', '1011011001001010', '0000000000000000', '0010000000010000', '0101100000001111', '0000010001010100', '0001111101111100', '0100000101100000']\n",
      "[1, 4, 6, 6, 7, 9, 9, 11, 13, 14, 17, 19, 22, 25, 27, 27] [1, 3, 5, 8, 10, 13, 16, 18, 18, 22, 24, 27, 30, 33, 35, 36]\n",
      "pBLOCK2 = ['0100000000000000', '0011000000000000', '0000100000000001', '1100000001111000', '0000111110111110', '0000011100101101', '1110000110000010']\n",
      "nBLOCK2 = ['0000000000000000', '0011001011010000', '0100000001110010', '0000000000000000', '0000111000011011', '0000110110110010', '0000000011111011', '0111010111000001', '0011110000110110']\n",
      "[2, 5, 7, 8, 10, 12, 14, 17, 19, 20, 23, 25, 28, 30, 32, 34] [0, 2, 5, 8, 11, 15, 17, 19, 23, 27, 31, 37, 39, 40, 45, 48]\n",
      "pBLOCK3 = ['0000000000001000', '0000000000000000', '0001000000000000', '1110110110010010', '0011101011100000', '0000000010011010', '0000000010000000']\n",
      "nBLOCK3 = ['0000000000000000', '0000100010101010', '1101000100001001', '0100000000000000', '0110000000000000', '0101001000000011', '1110001110101110', '0111010001000000', '1100000001000000']\n",
      "[1, 2, 4, 6, 8, 9, 10, 11, 15, 16, 17, 19, 21, 21, 23, 23] [3, 10, 13, 16, 17, 18, 20, 22, 24, 26, 28, 28, 31, 32, 35, 37]\n",
      "pBLOCK4 = ['0000000000000000', '0000000000000000', '0011111011111000', '1001000000011100', '1011101000100000', '1010000000011111', '0000000000000000']\n",
      "nBLOCK4 = ['0000000000000000', '0000000111110111', '1010101000000001', '0000000000000000', '0000001100000101', '1001011010000000', '0000101110100010', '0110000000011100', '0000011000011010']\n",
      "[3, 3, 6, 9, 11, 12, 14, 14, 15, 16, 18, 21, 24, 26, 27, 28] [2, 3, 5, 6, 8, 10, 15, 18, 21, 22, 24, 27, 29, 32, 35, 38]\n",
      "pBLOCK5 = ['0000000000000000', '0000000000000000', '1110100110000010', '1011010001000110', '0001000000001110', '0111110011110101', '0110000010000000']\n",
      "nBLOCK5 = ['0000000000000000', '1100111101011100', '1111011111001111', '0000000000000000', '0000000010001010', '0100110101010000', '0000000100000000', '0011011011000000', '0000000100010101']\n",
      "[2, 5, 9, 12, 14, 16, 16, 17, 20, 22, 23, 24, 25, 28, 31, 32] [2, 5, 7, 9, 11, 15, 18, 23, 26, 30, 30, 33, 36, 39, 41, 43]\n",
      "pBLOCK6 = ['0111100111100001', '0000000000000000', '0110100010000000', '0110101010000000', '0001101101100000', '1100000101110100', '0000000000000000']\n",
      "nBLOCK6 = ['0000000000000100', '0001011101000100', '0101110000010111', '0000000000000000', '0000000000011111', '0000111110111110', '1110000110110110', '0000000000000110', '0100000000111110']\n",
      "[1, 5, 8, 10, 14, 14, 16, 19, 22, 25, 28, 29, 29, 30, 30, 31] [1, 4, 5, 7, 9, 12, 14, 17, 19, 20, 23, 28, 31, 39, 45, 47]\n",
      "pBLOCK7 = ['1000001000000000', '0000000000000000', '0100000000111000', '0111110111110011', '0000000000000011', '1100000101100000', '0001000000000000']\n",
      "nBLOCK7 = ['0000000000000000', '0001011000000011', '0100110001010110', '0000000001100001', '0111110001110100', '0111101011100000', '0000000000000000', '0000101000000001', '1111100111101011']\n",
      "[2, 5, 6, 8, 9, 10, 11, 13, 14, 16, 19, 21, 22, 22, 24, 26] [1, 5, 8, 12, 17, 20, 23, 24, 26, 31, 35, 37, 38, 40, 43, 47]\n",
      "pBLOCK8 = ['1000000000000001', '0000000000000001', '0110110110000001', '1101011100001101', '0000010100000001', '0011110001110111', '0000000000000001']\n",
      "nBLOCK8 = ['0000000000000001', '1100001101101101', '0000001111000111', '1000000000000001', '1100000101110101', '1011101001100001', '0011000001010001', '0001010101000001', '1000001011101001']\n",
      "[2, 4, 6, 8, 10, 14, 15, 18, 19, 20, 21, 22, 23, 25, 26, 33] [5, 7, 9, 12, 13, 14, 18, 22, 24, 31, 35, 37, 39, 42, 43, 52]\n",
      "[0, 0, 0, 1, 1, 1, 1, 1, 0, 1, 1, 1, 0, 0, 0, 1] [0, 0, 0, 0, 1, 1, 1, 0, 1, 1, 1, 1, 1, 1, 1, 1] [1, 1, 1, 1, 1, 1, 1, 1, 1, 1, 1, 0, 0, 0, 1, 1] [0, 0, 0, 0, 0, 0, 1, 1, 1, 1, 1, 1, 0, 0, 1, 1]\n",
      "00011111011100010000111011111111111111111110001100000011111100110000001111111111000000000000111100111111111111111111000011111111\n",
      "[114, 114, 114, 114, 114, 114, 114, 114, 114, 114, 114, 114, 114, 114, 114, 114, 114, 114, 114, 114, 114, 114, 114, 114, 114, 114, 114, 114, 114, 114, 114, 114, 114, 114, 114, 114, 114, 114, 114, 114, 114, 114, 114, 114, 114, 114, 114, 114, 114, 114, 114, 114, 114, 114, 114, 114, 114, 114, 114, 114, 114, 114, 114, 114, 114, 114, 114, 114, 114, 114, 114, 114, 114, 114, 114, 114, 114, 114, 114, 114, 114, 114, 114, 114, 114, 114, 114, 114, 114, 114, 114, 114, 114, 114, 114, 114, 114, 114, 114, 114, 114, 114, 114, 114, 114, 114, 114, 114, 114, 114, 114, 114, 114, 114, 114, 114, 114, 114, 114, 114, 114, 114, 114, 114, 114, 114, 114, 114]\n",
      "[81, 82, 83, 84, 85, 86, 87, 88, 89, 90, 91, 92, 93, 94, 95, 96, 97, 98, 99, 100, 101, 102, 103, 104, 105, 106, 107, 108, 109, 110, 111, 112, 113, 114, 114, 114, 114, 114, 114, 114, 114, 114, 114, 114, 114, 114, 114, 114, 114, 114, 114, 114, 114, 114, 114, 114, 114, 114, 114, 114, 114, 114, 114, 114, 114, 114, 114, 114, 114, 114, 114, 114, 114, 114, 114, 114, 114, 114, 114, 114, 114, 114, 114, 114, 114, 114, 114, 114, 114, 114, 114, 114, 114, 114, 114, 114, 114, 114, 114, 114, 114, 114, 114, 114, 114, 114, 114, 114, 114, 114, 114, 114, 114, 114, 114, 114, 114, 114, 114, 114, 114, 114, 114, 114, 114, 114, 114, 114, 114]\n",
      "111111111111111111111111111111111111111111110001100000011111100110000001111111111000000000000111100111111111111111111000011111111\n",
      "===========================================\n"
     ]
    },
    {
     "ename": "ValueError",
     "evalue": "too many values to unpack (expected 2)",
     "output_type": "error",
     "traceback": [
      "\u001b[0;31m---------------------------------------------------------------------------\u001b[0m",
      "\u001b[0;31mValueError\u001b[0m                                Traceback (most recent call last)",
      "\u001b[0;32m<ipython-input-20-43848e1b4b83>\u001b[0m in \u001b[0;36m<module>\u001b[0;34m\u001b[0m\n\u001b[1;32m      3\u001b[0m \u001b[0mmse\u001b[0m \u001b[0;34m=\u001b[0m \u001b[0;36m0\u001b[0m\u001b[0;34m\u001b[0m\u001b[0;34m\u001b[0m\u001b[0m\n\u001b[1;32m      4\u001b[0m \u001b[0;32mfor\u001b[0m \u001b[0mi\u001b[0m \u001b[0;32min\u001b[0m \u001b[0mrange\u001b[0m\u001b[0;34m(\u001b[0m\u001b[0;36m1000\u001b[0m\u001b[0;34m)\u001b[0m\u001b[0;34m:\u001b[0m\u001b[0;34m\u001b[0m\u001b[0;34m\u001b[0m\u001b[0m\n\u001b[0;32m----> 5\u001b[0;31m     \u001b[0mresult\u001b[0m\u001b[0;34m,\u001b[0m \u001b[0mp\u001b[0m \u001b[0;34m=\u001b[0m \u001b[0mOUR\u001b[0m\u001b[0;34m(\u001b[0m\u001b[0;36m4\u001b[0m\u001b[0;34m,\u001b[0m\u001b[0;36m8\u001b[0m\u001b[0;34m)\u001b[0m\u001b[0;34m\u001b[0m\u001b[0;34m\u001b[0m\u001b[0m\n\u001b[0m\u001b[1;32m      6\u001b[0m     \u001b[0;32mif\u001b[0m \u001b[0mp\u001b[0m \u001b[0;34m>\u001b[0m \u001b[0;36m128\u001b[0m\u001b[0;34m:\u001b[0m\u001b[0;34m\u001b[0m\u001b[0;34m\u001b[0m\u001b[0m\n\u001b[1;32m      7\u001b[0m         \u001b[0;31m#print(\"intra-Block module result is: overflow!\")\u001b[0m\u001b[0;34m\u001b[0m\u001b[0;34m\u001b[0m\u001b[0;34m\u001b[0m\u001b[0m\n",
      "\u001b[0;31mValueError\u001b[0m: too many values to unpack (expected 2)"
     ]
    }
   ],
   "source": [
    "n = 0\n",
    "k = 0\n",
    "mse = 0\n",
    "for i in range(1000):\n",
    "    result, p = OUR(4,8)\n",
    "    if p > 128:\n",
    "        #print(\"intra-Block module result is: overflow!\")\n",
    "        k += 1\n",
    "        #continue\n",
    "    \n",
    "    else:\n",
    "        print(\"===========================================\")\n",
    "        print(\" Index : %s\"%(i+1))\n",
    "        print(\"-------------------------------------------\")\n",
    "        print(\"intra-Block module result is: {0}/128\".format(counter(result[1:])))\n",
    "        print(\"real accumulation result is : {0}/128\".format(p))\n",
    "        print(\"===========================================\")\n",
    "        Error = abs(counter(result[1:])/128-p/128)*100\n",
    "        if Error <= 5:\n",
    "            n += 1\n",
    "           \n",
    "        #mse += pow((counter(result[1:])-p)/128,2)\n",
    "        \n",
    "#MSE = mse/(100-k)\n",
    "#print(mse)\n",
    "print(\"128-bit's MSE is: {0}\".format(MSE))\n",
    "print(\"Accuracy is: {0}/{1}, {2}%\".format(n, 1000-k, n/(1000-k)*100))"
   ]
  },
  {
   "cell_type": "code",
   "execution_count": null,
   "id": "9133ea67-7fb4-4bbb-8d0a-ecfc04b6b783",
   "metadata": {},
   "outputs": [],
   "source": []
  }
 ],
 "metadata": {
  "kernelspec": {
   "display_name": "Python 3",
   "language": "python",
   "name": "python3"
  },
  "language_info": {
   "codemirror_mode": {
    "name": "ipython",
    "version": 3
   },
   "file_extension": ".py",
   "mimetype": "text/x-python",
   "name": "python",
   "nbconvert_exporter": "python",
   "pygments_lexer": "ipython3",
   "version": "3.6.9"
  }
 },
 "nbformat": 4,
 "nbformat_minor": 5
}
